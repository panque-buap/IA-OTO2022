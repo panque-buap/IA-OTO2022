{
 "cells": [
  {
   "cell_type": "code",
   "execution_count": null,
   "id": "3e1b21ce",
   "metadata": {},
   "outputs": [],
   "source": [
    "Lista1 = [1,2,3]\n",
    "Lista2 = [1,2,3]\n",
    "\n",
    "# Lista3 = Lista1*Lista2\n",
    "Lista3 = []\n",
    "\n",
    "for i in range(len(Lista1)):\n",
    "    Lista3.append(Lista1[i]*Lista2[i])\n",
    "    \n",
    "print(Lista3)\n",
    "\n",
    "# 1,4,9"
   ]
  },
  {
   "cell_type": "code",
   "execution_count": null,
   "id": "41d20ce1",
   "metadata": {},
   "outputs": [],
   "source": [
    "import array as arr\n",
    "\n",
    "arreglo1 = arr.array('i', [1,2,3])\n",
    "arreglo2 = arr.array('i', [1,2,3])\n",
    "\n",
    "# arreglo3 = arreglo1*arreglo2\n",
    "\n",
    "# 1,4,9"
   ]
  },
  {
   "cell_type": "code",
   "execution_count": 8,
   "id": "10512aee",
   "metadata": {},
   "outputs": [
    {
     "name": "stdout",
     "output_type": "stream",
     "text": [
      "0x7fa320390810\n",
      "0x7fa320390750\n",
      "0x7fa320390770\n",
      "[1 4 9]\n"
     ]
    }
   ],
   "source": [
    "import numpy as np\n",
    "\n",
    "arregloN1 = np.array([1,2,3], dtype=\"int8\")\n",
    "print(hex(id(arregloN1[0])))\n",
    "print(hex(id(arregloN1[1])))\n",
    "print(hex(id(arregloN1[2])))\n",
    "\n",
    "arregloN2 = np.array([1,2,3], dtype=\"int8\")\n",
    "\n",
    "arregloN3 = arregloN1*arregloN2\n",
    "print(arregloN3)"
   ]
  },
  {
   "cell_type": "code",
   "execution_count": null,
   "id": "8ac0ae18",
   "metadata": {},
   "outputs": [],
   "source": [
    "import time\n",
    "\n",
    "tiempoInicio = time.time()\n",
    "time.sleep(1)\n",
    "tiempoFin = time.time()\n",
    "print(tiempoFin-tiempoInicio)\n"
   ]
  },
  {
   "cell_type": "code",
   "execution_count": 12,
   "id": "4102eb11",
   "metadata": {},
   "outputs": [
    {
     "name": "stdout",
     "output_type": "stream",
     "text": [
      "0.09882164001464844\n",
      "0.0014801025390625\n"
     ]
    }
   ],
   "source": [
    "import time\n",
    "import numpy as np\n",
    "\n",
    "tiempoInicio = time.time()\n",
    "listaMultiple = list(range(1,1000001))\n",
    "# print(listaMultiple)\n",
    "tiempoFin = time.time()\n",
    "print(tiempoFin-tiempoInicio)\n",
    "\n",
    "tiempoInicio = time.time()\n",
    "arregloMultiple = np.arange(1,1000001)\n",
    "# print(arregloMultiple)\n",
    "tiempoFin = time.time()\n",
    "print(tiempoFin-tiempoInicio)"
   ]
  },
  {
   "cell_type": "code",
   "execution_count": 14,
   "id": "297ece21",
   "metadata": {},
   "outputs": [],
   "source": [
    "import matplotlib\n",
    "import pandas"
   ]
  },
  {
   "cell_type": "code",
   "execution_count": null,
   "id": "37c1e8f4",
   "metadata": {},
   "outputs": [],
   "source": [
    "#Estructuras de datos"
   ]
  }
 ],
 "metadata": {
  "kernelspec": {
   "display_name": "Python 3",
   "language": "python",
   "name": "python3"
  },
  "language_info": {
   "codemirror_mode": {
    "name": "ipython",
    "version": 3
   },
   "file_extension": ".py",
   "mimetype": "text/x-python",
   "name": "python",
   "nbconvert_exporter": "python",
   "pygments_lexer": "ipython3",
   "version": "3.8.5"
  }
 },
 "nbformat": 4,
 "nbformat_minor": 5
}
