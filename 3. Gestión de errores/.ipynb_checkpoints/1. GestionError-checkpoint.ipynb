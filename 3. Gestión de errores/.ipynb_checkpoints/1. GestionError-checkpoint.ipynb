{
 "cells": [
  {
   "cell_type": "code",
   "execution_count": null,
   "metadata": {
    "colab": {
     "base_uri": "https://localhost:8080/"
    },
    "id": "PTP0R0xFXmJc",
    "outputId": "694c7e24-72b9-4e45-b180-9d5b486a0b5a"
   },
   "outputs": [
    {
     "name": "stdout",
     "output_type": "stream",
     "text": [
      "Error en el programa\n"
     ]
    }
   ],
   "source": [
    "n1=\"0\"\n",
    "n2=5\n",
    "\n",
    "try:\n",
    "  division = n2/n1\n",
    "except:\n",
    "  print(\"Error en el programa\")\n",
    "\n",
    "#print(\"Felicidades has realizado una suma\")"
   ]
  },
  {
   "cell_type": "code",
   "execution_count": null,
   "metadata": {
    "colab": {
     "base_uri": "https://localhost:8080/"
    },
    "id": "_c4xmDHaXxER",
    "outputId": "1ce4a652-7f1b-47e3-a222-82639177d596"
   },
   "outputs": [
    {
     "name": "stdout",
     "output_type": "stream",
     "text": [
      "Error por uso de diferentes tipos de datos\n"
     ]
    }
   ],
   "source": [
    "n1=\"0\"\n",
    "n2=5\n",
    "\n",
    "try:\n",
    "  division = n2/n1\n",
    "except ZeroDivisionError:\n",
    "  print(\"Error por division  entre cero\")\n",
    "except TypeError:\n",
    "  print(\"Error por uso de diferentes tipos de datos\")\n"
   ]
  },
  {
   "cell_type": "code",
   "execution_count": null,
   "metadata": {
    "colab": {
     "base_uri": "https://localhost:8080/"
    },
    "id": "MyZFtKOlYRKs",
    "outputId": "dfbc799b-2107-4712-e9d9-1326f934e288"
   },
   "outputs": [
    {
     "name": "stdout",
     "output_type": "stream",
     "text": [
      "TypeError\n"
     ]
    }
   ],
   "source": [
    "n1=\"0\"\n",
    "n2=5\n",
    "\n",
    "try:\n",
    "  division = n2/n1\n",
    "except Exception as error:\n",
    "  print(type(error).__name__)"
   ]
  },
  {
   "cell_type": "code",
   "execution_count": null,
   "metadata": {
    "id": "0NraKz_IZKat"
   },
   "outputs": [],
   "source": []
  }
 ],
 "metadata": {
  "colab": {
   "provenance": []
  },
  "kernelspec": {
   "display_name": "Python 3",
   "name": "python3"
  },
  "language_info": {
   "name": "python"
  }
 },
 "nbformat": 4,
 "nbformat_minor": 0
}
