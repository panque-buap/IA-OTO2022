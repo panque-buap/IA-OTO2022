{
 "cells": [
  {
   "cell_type": "code",
   "execution_count": 7,
   "id": "6bdacb2f",
   "metadata": {},
   "outputs": [],
   "source": [
    "import time\n",
    "import sys \n",
    "\n",
    "sys.getrecursionlimit() #Comando para obtener el numero limite de recursiones\n",
    "sys.setrecursionlimit(10000) #Comando para configurar el limite de recursiones\n",
    "\n",
    "\n",
    "#Una funcion recursiva es aquella funcion que se llama a si misma\n",
    "\n",
    "  "
   ]
  },
  {
   "cell_type": "code",
   "execution_count": 40,
   "id": "348d3e8f",
   "metadata": {},
   "outputs": [],
   "source": [
    "def factorialRecursivo(numero):\n",
    "    if (type(numero) == int) and (numero>=0):\n",
    "        #print(\"El numero si es de tipo entero y es positivo\")\n",
    "        \n",
    "        if (numero == 0) or (numero==1):\n",
    "            return 1\n",
    "        \n",
    "        else:\n",
    "            return (numero*factorialRecursivo(numero-1))\n",
    "                \n",
    "    else:\n",
    "        print(\"No cumple condicion para ser factorial\") \n",
    "    "
   ]
  },
  {
   "cell_type": "code",
   "execution_count": 43,
   "id": "78dea7ce",
   "metadata": {},
   "outputs": [
    {
     "name": "stdout",
     "output_type": "stream",
     "text": [
      "6\n"
     ]
    }
   ],
   "source": [
    "print (factorialRecursivo(3))"
   ]
  },
  {
   "cell_type": "code",
   "execution_count": null,
   "id": "5242313c",
   "metadata": {},
   "outputs": [],
   "source": [
    "#Ejercicio 1\n",
    "\n",
    "\n",
    "\n",
    "\n"
   ]
  },
  {
   "cell_type": "code",
   "execution_count": 6,
   "id": "b3e79d87",
   "metadata": {},
   "outputs": [
    {
     "name": "stdout",
     "output_type": "stream",
     "text": [
      "('persona1,persona2',)\n"
     ]
    },
    {
     "data": {
      "text/plain": [
       "['juan,maria', 'maria,pedro', 'pedro,juan']"
      ]
     },
     "execution_count": 6,
     "metadata": {},
     "output_type": "execute_result"
    }
   ],
   "source": [
    "#Ejercicio 2\n",
    "\n",
    "\n",
    "\n",
    "entrada = [\"juan\",\"maria\",\"pedro\"]\n",
    "\n",
    "cadena1 = \"persona1\"\n",
    "cadena2 = \"persona2\"\n",
    "\n",
    "cadena3 = cadena1 + \",\" + cadena2\n",
    "\n",
    "tupla1 = tuple([cadena3])\n",
    "print(tupla1)\n",
    "\n",
    "salida = [(\"juan,maria\"), (\"maria,pedro\"), (\"pedro,juan\")]\n",
    "\n",
    "salida"
   ]
  },
  {
   "cell_type": "code",
   "execution_count": null,
   "id": "e50695e7",
   "metadata": {},
   "outputs": [],
   "source": []
  }
 ],
 "metadata": {
  "kernelspec": {
   "display_name": "Python 3",
   "language": "python",
   "name": "python3"
  },
  "language_info": {
   "codemirror_mode": {
    "name": "ipython",
    "version": 3
   },
   "file_extension": ".py",
   "mimetype": "text/x-python",
   "name": "python",
   "nbconvert_exporter": "python",
   "pygments_lexer": "ipython3",
   "version": "3.8.5"
  }
 },
 "nbformat": 4,
 "nbformat_minor": 5
}
