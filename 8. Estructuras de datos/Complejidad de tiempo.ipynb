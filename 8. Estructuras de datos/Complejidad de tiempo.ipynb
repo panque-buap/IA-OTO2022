{
 "cells": [
  {
   "cell_type": "code",
   "execution_count": 10,
   "id": "bf26501e",
   "metadata": {},
   "outputs": [
    {
     "name": "stdout",
     "output_type": "stream",
     "text": [
      "9.441375732421875e-05\n"
     ]
    }
   ],
   "source": [
    "#Tiempo constante   O(1)\n",
    "import time\n",
    "inicio = time.time()\n",
    "listaPrueba = [1,2,3,4,5,6,7,8,9,10]\n",
    "listaPrueba[0]\n",
    "#listaPrueba[9]\n",
    "fin = time.time()\n",
    "\n",
    "print(fin-inicio)\n"
   ]
  },
  {
   "cell_type": "code",
   "execution_count": 12,
   "id": "ee65f576",
   "metadata": {},
   "outputs": [
    {
     "name": "stdout",
     "output_type": "stream",
     "text": [
      "9.632110595703125e-05\n"
     ]
    }
   ],
   "source": [
    "inicio = time.time()\n",
    "listaPrueba = [1,2,3,4,5,6,7,8,9,10]\n",
    "listaPrueba[9]\n",
    "fin = time.time()\n",
    "\n",
    "print(fin-inicio)\n"
   ]
  },
  {
   "cell_type": "code",
   "execution_count": 14,
   "id": "96155dfa",
   "metadata": {},
   "outputs": [
    {
     "name": "stdout",
     "output_type": "stream",
     "text": [
      "1\n",
      "2\n",
      "3\n",
      "4\n",
      "5\n",
      "6\n",
      "7\n",
      "8\n",
      "9\n",
      "10\n"
     ]
    }
   ],
   "source": [
    "#Tiempo lineal O(n)\n",
    "\n",
    "listaPrueba = [1,2,3,4,5,6,7,8,9,10]\n",
    "for i in range(len(listaPrueba)):\n",
    "    print(listaPrueba[i])"
   ]
  },
  {
   "cell_type": "code",
   "execution_count": 15,
   "id": "0a232279",
   "metadata": {},
   "outputs": [
    {
     "name": "stdout",
     "output_type": "stream",
     "text": [
      "1\n",
      "1\n",
      "1\n",
      "1\n",
      "1\n",
      "1\n",
      "1\n",
      "1\n",
      "1\n",
      "1\n",
      "2\n",
      "2\n",
      "2\n",
      "2\n",
      "2\n",
      "2\n",
      "2\n",
      "2\n",
      "2\n",
      "2\n",
      "3\n",
      "3\n",
      "3\n",
      "3\n",
      "3\n",
      "3\n",
      "3\n",
      "3\n",
      "3\n",
      "3\n",
      "4\n",
      "4\n",
      "4\n",
      "4\n",
      "4\n",
      "4\n",
      "4\n",
      "4\n",
      "4\n",
      "4\n",
      "5\n",
      "5\n",
      "5\n",
      "5\n",
      "5\n",
      "5\n",
      "5\n",
      "5\n",
      "5\n",
      "5\n",
      "6\n",
      "6\n",
      "6\n",
      "6\n",
      "6\n",
      "6\n",
      "6\n",
      "6\n",
      "6\n",
      "6\n",
      "7\n",
      "7\n",
      "7\n",
      "7\n",
      "7\n",
      "7\n",
      "7\n",
      "7\n",
      "7\n",
      "7\n",
      "8\n",
      "8\n",
      "8\n",
      "8\n",
      "8\n",
      "8\n",
      "8\n",
      "8\n",
      "8\n",
      "8\n",
      "9\n",
      "9\n",
      "9\n",
      "9\n",
      "9\n",
      "9\n",
      "9\n",
      "9\n",
      "9\n",
      "9\n",
      "10\n",
      "10\n",
      "10\n",
      "10\n",
      "10\n",
      "10\n",
      "10\n",
      "10\n",
      "10\n",
      "10\n"
     ]
    }
   ],
   "source": [
    "#Tiempo cuadrado O(n^2)\n",
    "\n",
    "listaPrueba = [1,2,3,4,5,6,7,8,9,10]\n",
    "for i in range(len(listaPrueba)):\n",
    "    for y in range(len(listaPrueba)):\n",
    "        print(listaPrueba[i])"
   ]
  },
  {
   "cell_type": "code",
   "execution_count": null,
   "id": "2e997e30",
   "metadata": {},
   "outputs": [],
   "source": []
  }
 ],
 "metadata": {
  "kernelspec": {
   "display_name": "Python 3",
   "language": "python",
   "name": "python3"
  },
  "language_info": {
   "codemirror_mode": {
    "name": "ipython",
    "version": 3
   },
   "file_extension": ".py",
   "mimetype": "text/x-python",
   "name": "python",
   "nbconvert_exporter": "python",
   "pygments_lexer": "ipython3",
   "version": "3.8.5"
  }
 },
 "nbformat": 4,
 "nbformat_minor": 5
}
