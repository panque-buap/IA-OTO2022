{
 "cells": [
  {
   "cell_type": "code",
   "execution_count": 38,
   "id": "b3207efc",
   "metadata": {},
   "outputs": [],
   "source": [
    "# Clase nodo\n",
    "class Nodo:\n",
    "  \n",
    "    # Método constructor para crear un nodo de una lista enlazada\n",
    "    #Nota: Un nodo en una lista enlazada simple almacena el dato y la dirección \n",
    "    #de memoria vinculada al siguiente elemento\n",
    "    def __init__(self, dato):\n",
    "        self.dato = dato  # Asignar dato\n",
    "        self.siguiente = None  # Dirección de memoria siguiente\n",
    "\n",
    "# Clase lista enlazada\n",
    "class ListaEnlazada:\n",
    "    \n",
    "#Here's a list of basic linked list operations that we will cover in this article.\n",
    "\n",
    "# Traversal - access each element of the linked list  TRUE\n",
    "# Insertion - adds a new element to the linked list   TRUE\n",
    "# Deletion - removes the existing elements\n",
    "# Search - find a node in the linked list             TRUE\n",
    "# Sort - sort the nodes of the linked list             *SOLO APLICA SI SON SOLAMENTE NUMEROS O LETRAS\n",
    "  \n",
    "    # Método constructor para crear una lista enlazada\n",
    "    def __init__(self):\n",
    "        self.encabezado = None\n",
    "    \n",
    "    def insertarInicio(self, elemento):\n",
    "        nodo = Nodo(elemento)    \n",
    "        \n",
    "        if self.encabezado:\n",
    "            nodo.siguiente = self.encabezado\n",
    "            self.encabezado = nodo\n",
    "        else:\n",
    "            self.encabezado = nodo\n",
    "            \n",
    "        print(nodo.siguiente)\n",
    "        \n",
    "    def insertarFinal(self, elemento):\n",
    "        nodo = Nodo(elemento)    \n",
    "        \n",
    "        if self.encabezado:\n",
    "            temporal = self.encabezado\n",
    "#             self.encabezado.siguiente = nodo\n",
    "            while(temporal.siguiente):\n",
    "                #significa que elemento si tiene direccion siguiente\n",
    "                temporal = temporal.siguiente\n",
    "            temporal.siguiente = nodo\n",
    "            \n",
    "            \n",
    "#             nodo.siguiente = self.encabezado\n",
    "#             self.encabezado = nodo\n",
    "        else:\n",
    "            self.encabezado = nodo\n",
    "            \n",
    "        print(nodo.siguiente)\n",
    "    \n",
    "    def borrar():\n",
    "        pass\n",
    "    \n",
    "    def mostrar(self):  #Este metodo tiene por objetivo imprimir todos los elementos en orden\n",
    "        #dentro de la lista enlazada\n",
    "        if self.encabezado:\n",
    "            #mostrar todos los elementos en orden\n",
    "            temporal = self.encabezado\n",
    "#             self.encabezado.siguiente = nodo\n",
    "            while(temporal):\n",
    "                #significa que elemento si tiene direccion siguiente\n",
    "                print(temporal.dato)\n",
    "                temporal = temporal.siguiente\n",
    "        else:\n",
    "            print(\"No hay elementos dentro de la lista enlazada\")\n",
    "    \n",
    "    def buscar(self,elemento):\n",
    "        temporal = self.encabezado\n",
    "#             self.encabezado.siguiente = nodo\n",
    "        while(temporal):\n",
    "            \n",
    "            if temporal.dato == elemento:\n",
    "                return True\n",
    "            else:\n",
    "                temporal = temporal.siguiente\n",
    "            \n",
    "        return False\n",
    "    def ordenar():\n",
    "        pass\n",
    "    "
   ]
  },
  {
   "cell_type": "code",
   "execution_count": 39,
   "id": "ccf53c48",
   "metadata": {},
   "outputs": [],
   "source": [
    "ll1 = ListaEnlazada()"
   ]
  },
  {
   "cell_type": "code",
   "execution_count": 40,
   "id": "637d5b67",
   "metadata": {},
   "outputs": [
    {
     "name": "stdout",
     "output_type": "stream",
     "text": [
      "No hay elementos dentro de la lista enlazada\n"
     ]
    }
   ],
   "source": [
    "ll1.mostrar()"
   ]
  },
  {
   "cell_type": "code",
   "execution_count": 41,
   "id": "1b87a135",
   "metadata": {
    "scrolled": true
   },
   "outputs": [
    {
     "name": "stdout",
     "output_type": "stream",
     "text": [
      "None\n"
     ]
    },
    {
     "data": {
      "text/plain": [
       "<__main__.Nodo at 0x7f8d382bd2b0>"
      ]
     },
     "execution_count": 41,
     "metadata": {},
     "output_type": "execute_result"
    }
   ],
   "source": [
    "ll1.insertarFinal(5)\n",
    "ll1.encabezado"
   ]
  },
  {
   "cell_type": "code",
   "execution_count": 42,
   "id": "463e9adb",
   "metadata": {},
   "outputs": [
    {
     "name": "stdout",
     "output_type": "stream",
     "text": [
      "None\n"
     ]
    },
    {
     "data": {
      "text/plain": [
       "<__main__.Nodo at 0x7f8d382bd2b0>"
      ]
     },
     "execution_count": 42,
     "metadata": {},
     "output_type": "execute_result"
    }
   ],
   "source": [
    "ll1.insertarFinal(7)\n",
    "ll1.encabezado"
   ]
  },
  {
   "cell_type": "code",
   "execution_count": 43,
   "id": "abe2bdfe",
   "metadata": {},
   "outputs": [
    {
     "name": "stdout",
     "output_type": "stream",
     "text": [
      "None\n"
     ]
    },
    {
     "data": {
      "text/plain": [
       "<__main__.Nodo at 0x7f8d382bd2b0>"
      ]
     },
     "execution_count": 43,
     "metadata": {},
     "output_type": "execute_result"
    }
   ],
   "source": [
    "ll1.insertarFinal(8)\n",
    "ll1.encabezado"
   ]
  },
  {
   "cell_type": "code",
   "execution_count": 44,
   "id": "a6b80cb6",
   "metadata": {},
   "outputs": [
    {
     "name": "stdout",
     "output_type": "stream",
     "text": [
      "5\n",
      "7\n",
      "8\n"
     ]
    }
   ],
   "source": [
    "ll1.mostrar()"
   ]
  },
  {
   "cell_type": "code",
   "execution_count": 45,
   "id": "a9019b92",
   "metadata": {},
   "outputs": [
    {
     "name": "stdout",
     "output_type": "stream",
     "text": [
      "None\n"
     ]
    },
    {
     "data": {
      "text/plain": [
       "<__main__.Nodo at 0x7f8d382bd2b0>"
      ]
     },
     "execution_count": 45,
     "metadata": {},
     "output_type": "execute_result"
    }
   ],
   "source": [
    "ll1.insertarFinal(11)\n",
    "ll1.encabezado"
   ]
  },
  {
   "cell_type": "code",
   "execution_count": 46,
   "id": "0b581942",
   "metadata": {},
   "outputs": [
    {
     "name": "stdout",
     "output_type": "stream",
     "text": [
      "5\n",
      "7\n",
      "8\n",
      "11\n"
     ]
    }
   ],
   "source": [
    "ll1.mostrar()"
   ]
  },
  {
   "cell_type": "code",
   "execution_count": 47,
   "id": "86b54dd0",
   "metadata": {},
   "outputs": [
    {
     "name": "stdout",
     "output_type": "stream",
     "text": [
      "<__main__.Nodo object at 0x7f8d382bd2b0>\n"
     ]
    },
    {
     "data": {
      "text/plain": [
       "<__main__.Nodo at 0x7f8d382bd4f0>"
      ]
     },
     "execution_count": 47,
     "metadata": {},
     "output_type": "execute_result"
    }
   ],
   "source": [
    "ll1.insertarInicio(20)\n",
    "ll1.encabezado"
   ]
  },
  {
   "cell_type": "code",
   "execution_count": 48,
   "id": "c8f1efc9",
   "metadata": {},
   "outputs": [
    {
     "name": "stdout",
     "output_type": "stream",
     "text": [
      "<__main__.Nodo object at 0x7f8d382bd4f0>\n"
     ]
    },
    {
     "data": {
      "text/plain": [
       "<__main__.Nodo at 0x7f8d382bd310>"
      ]
     },
     "execution_count": 48,
     "metadata": {},
     "output_type": "execute_result"
    }
   ],
   "source": [
    "ll1.insertarInicio(30)\n",
    "ll1.encabezado"
   ]
  },
  {
   "cell_type": "code",
   "execution_count": 49,
   "id": "41506cde",
   "metadata": {},
   "outputs": [
    {
     "name": "stdout",
     "output_type": "stream",
     "text": [
      "30\n",
      "20\n",
      "5\n",
      "7\n",
      "8\n",
      "11\n"
     ]
    }
   ],
   "source": [
    "ll1.mostrar()"
   ]
  },
  {
   "cell_type": "code",
   "execution_count": 50,
   "id": "9e852ab7",
   "metadata": {},
   "outputs": [
    {
     "data": {
      "text/plain": [
       "True"
      ]
     },
     "execution_count": 50,
     "metadata": {},
     "output_type": "execute_result"
    }
   ],
   "source": [
    "ll1.buscar(8)"
   ]
  },
  {
   "cell_type": "code",
   "execution_count": 51,
   "id": "6e86cde8",
   "metadata": {},
   "outputs": [
    {
     "data": {
      "text/plain": [
       "False"
      ]
     },
     "execution_count": 51,
     "metadata": {},
     "output_type": "execute_result"
    }
   ],
   "source": [
    "ll1.buscar(50)"
   ]
  },
  {
   "cell_type": "code",
   "execution_count": 53,
   "id": "01408592",
   "metadata": {},
   "outputs": [
    {
     "data": {
      "text/plain": [
       "True"
      ]
     },
     "execution_count": 53,
     "metadata": {},
     "output_type": "execute_result"
    }
   ],
   "source": [
    "ll1.buscar(11)"
   ]
  },
  {
   "cell_type": "code",
   "execution_count": 55,
   "id": "1e8fd59b",
   "metadata": {},
   "outputs": [
    {
     "name": "stdout",
     "output_type": "stream",
     "text": [
      "no aplica\n"
     ]
    }
   ],
   "source": [
    "numero = \"Hola Mundo\"\n",
    "if (type(numero)== int):\n",
    "    print(\"SI ES NUMERO POR LO TANTO SI APLICA EL ORDENAR\")\n",
    "else:\n",
    "    print(\"no aplica\")"
   ]
  },
  {
   "cell_type": "code",
   "execution_count": null,
   "id": "f11305ac",
   "metadata": {},
   "outputs": [],
   "source": []
  }
 ],
 "metadata": {
  "kernelspec": {
   "display_name": "Python 3",
   "language": "python",
   "name": "python3"
  },
  "language_info": {
   "codemirror_mode": {
    "name": "ipython",
    "version": 3
   },
   "file_extension": ".py",
   "mimetype": "text/x-python",
   "name": "python",
   "nbconvert_exporter": "python",
   "pygments_lexer": "ipython3",
   "version": "3.8.5"
  }
 },
 "nbformat": 4,
 "nbformat_minor": 5
}
