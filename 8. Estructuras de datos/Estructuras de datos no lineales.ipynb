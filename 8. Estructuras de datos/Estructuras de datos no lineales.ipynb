{
 "cells": [
  {
   "cell_type": "code",
   "execution_count": 29,
   "id": "1f60452f",
   "metadata": {},
   "outputs": [],
   "source": [
    "# Una de las diferentes estructuras de datos de tipo no lineal\n",
    "# es la estructura de datos conocida como árbol\n",
    "\n",
    "#Un árbol es una estructura de datos de tipo no lineal que posee un nodo \n",
    "# principal (conocido como nodo raíz) y que sigue una jerarquía"
   ]
  },
  {
   "cell_type": "code",
   "execution_count": 30,
   "id": "706c39ad",
   "metadata": {},
   "outputs": [],
   "source": [
    "class nodoArbol:\n",
    "    \n",
    "    def __init__(self, dato):\n",
    "        self.dato = dato\n",
    "        self.padre = None\n",
    "        self.hijos = []\n",
    "        \n",
    "    def añadirPadre(self, padre):\n",
    "        self.padre = padre\n",
    "    \n",
    "    def añadirHijo(self, hijo):\n",
    "        self.hijos.append(hijo)\n",
    "        hijo.añadirPadre(self)\n",
    "        \n",
    "    def buscarElemento(self, elemento):\n",
    "        \n",
    "        def busquedaRepetitiva():\n",
    "            #Algoritmo de Búsqueda denominado DFS\n",
    "            #Depth First Search  (implementa stack )\n",
    "            \n",
    "            if (len(stackFrontera)==0):\n",
    "                print(\"El elemento no se encuentra\")\n",
    "                return None \n",
    "            \n",
    "            if stackFrontera[-1].dato == elemento:\n",
    "                print(\"Encontramos el elemento\")\n",
    "                return None\n",
    "            else:\n",
    "                listaVisitados.append(stackFrontera[-1])\n",
    "                temporal = stackFrontera[-1]\n",
    "                stackFrontera.pop()\n",
    "                \n",
    "\n",
    "                for hijo in reversed(temporal.hijos):\n",
    "                    stackFrontera.append(hijo)\n",
    "                \n",
    "                busquedaRepetitiva()\n",
    "\n",
    "        \n",
    "        stackFrontera = []\n",
    "        listaVisitados = []\n",
    "        \n",
    "        stackFrontera.append(self)\n",
    "        \n",
    "        busquedaRepetitiva()    \n",
    "        \n",
    "        print(stackFrontera)\n",
    "        print(listaVisitados)\n",
    "        \n",
    "    def __repr__(self):\n",
    "        return self.dato\n",
    "        "
   ]
  },
  {
   "cell_type": "code",
   "execution_count": 31,
   "id": "d338d592",
   "metadata": {},
   "outputs": [],
   "source": [
    "Vehiculos = nodoArbol(\"A\")"
   ]
  },
  {
   "cell_type": "code",
   "execution_count": 32,
   "id": "da360b17",
   "metadata": {},
   "outputs": [],
   "source": [
    "Autos = nodoArbol(\"B\")\n",
    "Camiones = nodoArbol(\"C\")\n",
    "Performance = nodoArbol(\"D\")"
   ]
  },
  {
   "cell_type": "code",
   "execution_count": 33,
   "id": "436fbd17",
   "metadata": {},
   "outputs": [],
   "source": [
    "Vehiculos.añadirHijo(Autos)\n",
    "Vehiculos.añadirHijo(Camiones)\n",
    "Vehiculos.añadirHijo(Performance)"
   ]
  },
  {
   "cell_type": "code",
   "execution_count": 34,
   "id": "3e0d03b9",
   "metadata": {},
   "outputs": [],
   "source": [
    "Mustang = nodoArbol(\"E\")"
   ]
  },
  {
   "cell_type": "code",
   "execution_count": 35,
   "id": "a4e567e0",
   "metadata": {},
   "outputs": [],
   "source": [
    "Autos.añadirHijo(Mustang)"
   ]
  },
  {
   "cell_type": "code",
   "execution_count": 36,
   "id": "417a51d5",
   "metadata": {},
   "outputs": [],
   "source": [
    "Ranger = nodoArbol(\"F\")\n",
    "Lobo = nodoArbol(\"G\")\n",
    "F150 = nodoArbol(\"H\")"
   ]
  },
  {
   "cell_type": "code",
   "execution_count": 37,
   "id": "98e07eb5",
   "metadata": {},
   "outputs": [],
   "source": [
    "Camiones.añadirHijo(Ranger)\n",
    "Camiones.añadirHijo(Lobo)\n",
    "Camiones.añadirHijo(F150)"
   ]
  },
  {
   "cell_type": "code",
   "execution_count": 38,
   "id": "6243b81c",
   "metadata": {},
   "outputs": [],
   "source": [
    "Shelby = nodoArbol(\"I\")\n",
    "Edge = nodoArbol(\"J\")"
   ]
  },
  {
   "cell_type": "code",
   "execution_count": 39,
   "id": "846d893c",
   "metadata": {},
   "outputs": [],
   "source": [
    "Performance.añadirHijo(Shelby)\n",
    "Performance.añadirHijo(Edge)"
   ]
  },
  {
   "cell_type": "code",
   "execution_count": 40,
   "id": "02feae53",
   "metadata": {},
   "outputs": [],
   "source": [
    "Ecoboost = nodoArbol(\"K\")\n",
    "GT_V8_Convertible = nodoArbol(\"L\")"
   ]
  },
  {
   "cell_type": "code",
   "execution_count": 41,
   "id": "90836654",
   "metadata": {},
   "outputs": [],
   "source": [
    "Mustang.añadirHijo(Ecoboost)\n",
    "Mustang.añadirHijo(GT_V8_Convertible)"
   ]
  },
  {
   "cell_type": "code",
   "execution_count": 42,
   "id": "4ccc232b",
   "metadata": {
    "scrolled": true
   },
   "outputs": [
    {
     "name": "stdout",
     "output_type": "stream",
     "text": [
      "El elemento no se encuentra\n",
      "[]\n",
      "[A, B, E, K, L, C, F, G, H, D, I, J]\n"
     ]
    }
   ],
   "source": [
    "Vehiculos.buscarElemento(\"X\")"
   ]
  },
  {
   "cell_type": "code",
   "execution_count": null,
   "id": "ba858de9",
   "metadata": {},
   "outputs": [],
   "source": [
    "lista = []"
   ]
  },
  {
   "cell_type": "code",
   "execution_count": null,
   "id": "5074e5fd",
   "metadata": {},
   "outputs": [],
   "source": [
    "#Si la estructura de datos lineal utilizada para el proceso de búsqueda es un queue\n",
    "#entonces el algoritmo de búsqueda cambia su nombre a BFS \n",
    "#por sus sigles en inglés Breadth First Search"
   ]
  }
 ],
 "metadata": {
  "kernelspec": {
   "display_name": "Python 3",
   "language": "python",
   "name": "python3"
  },
  "language_info": {
   "codemirror_mode": {
    "name": "ipython",
    "version": 3
   },
   "file_extension": ".py",
   "mimetype": "text/x-python",
   "name": "python",
   "nbconvert_exporter": "python",
   "pygments_lexer": "ipython3",
   "version": "3.8.5"
  }
 },
 "nbformat": 4,
 "nbformat_minor": 5
}
