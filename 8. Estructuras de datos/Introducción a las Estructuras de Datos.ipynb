{
 "cells": [
  {
   "cell_type": "code",
   "execution_count": null,
   "id": "b4e8fc61",
   "metadata": {},
   "outputs": [],
   "source": [
    "# ¿Qué es una estructura de datos?\n",
    "\n",
    "#Una estructura de datos es una manera de almacenar y organizar información\n",
    "# de tal forma que podamos consultar los datos de una manera rápida y eficiente\n",
    "\n",
    "\n",
    "#La complejidad de tiempo y espacio es un concepto importante en el tema de estructuras\n",
    "#de datos, ya que esto determina el tiempo de procesamiento y el espacio en memoria requerido\n",
    "#para cumplir el propósito de la estructura de datos"
   ]
  },
  {
   "cell_type": "code",
   "execution_count": null,
   "id": "a60b2fb3",
   "metadata": {},
   "outputs": [],
   "source": [
    "#En Python exiten diferentes tipos de estructuras de datos, y por lo tanto existen tambiém\n",
    "#diferentes maneras de clasificarlas.\n",
    "\n",
    "#De forma general podemos mencionar dos grandes clasificaciones\n",
    "\n",
    "#Contenedores: Son estructuras de datos que vienen de forma predeterminada en el lenguaje\n",
    "# de programación como por ejemplo listas, tuplas, diccionarios y conjuntos\n",
    "\n",
    "#Definidas por el usuario: Son aquellas estructuras de datos que un usuario define para sus \n",
    "#aplicaciones especificas "
   ]
  },
  {
   "cell_type": "markdown",
   "id": "d311074a",
   "metadata": {},
   "source": [
    "# Stack (pila), queue (fila), linked list (lista enlazada)"
   ]
  },
  {
   "cell_type": "code",
   "execution_count": null,
   "id": "fc23d9c8",
   "metadata": {},
   "outputs": [],
   "source": [
    "#Un stack es una estructura de datos que como su nombre lo indica apila información,\n",
    "#un stack sigue el principio LIFO (Last in First Out) o FILO (First in Last Out)"
   ]
  },
  {
   "cell_type": "code",
   "execution_count": null,
   "id": "09a83f36",
   "metadata": {},
   "outputs": [],
   "source": [
    "#Un stack tiene operaciones estandarizadas independientemente\n",
    "#del lenguaje de programación utilizado:\n",
    "\n",
    "# la operación push se utiliza para añadir elementos en la pila\n",
    "# la operación pop se utiliza para quitar elementos en la pila\n",
    "# la operación empty se utiliza para determinar si la pila tiene o no elementos \n",
    "# la operación top se utiliza para identificar el elemento superior en la pila"
   ]
  },
  {
   "cell_type": "code",
   "execution_count": 19,
   "id": "9b706b5d",
   "metadata": {},
   "outputs": [
    {
     "name": "stdout",
     "output_type": "stream",
     "text": [
      "tortilla 5\n",
      "tortilla 4\n",
      "tortilla 3\n",
      "tortilla 2\n",
      "tortilla 1\n",
      "\n",
      "tortilla 4\n",
      "tortilla 3\n",
      "tortilla 2\n",
      "tortilla 1\n",
      "Pila con elementos\n",
      "tortilla 4\n"
     ]
    }
   ],
   "source": [
    "#Para crear un stack en Python existen diferentes técnicas, nosotros vamos a comenzar\n",
    "#utilizando una estructura de datos preconstruida en el lenguaje como lo es una lista\n",
    "\n",
    "\n",
    "def mostrarPila(pila):\n",
    "    for i in reversed(range(len(pila))):\n",
    "        print(pila[i])\n",
    "\n",
    "\n",
    "pila = []\n",
    "\n",
    "\n",
    "#Lo primero a realizar en mi pila es añadir elementos   (operacion push)\n",
    "pila.append(\"tortilla 1\")\n",
    "pila.append(\"tortilla 2\")\n",
    "pila.append(\"tortilla 3\")\n",
    "pila.append(\"tortilla 4\")\n",
    "pila.append(\"tortilla 5\")\n",
    "\n",
    "# print(pila)\n",
    "mostrarPila(pila)\n",
    "\n",
    "#Lo siguiente a realizar es remover elementos   (operacion pop)\n",
    "print(\"\")\n",
    "\n",
    "pila.pop()\n",
    "# print(pila)\n",
    "mostrarPila(pila)\n",
    "\n",
    "#Posteriormente vamos a identificar si la pila esta vacia o no\n",
    "\n",
    "if (len(pila))==0:\n",
    "    print(\"Pila vacia\")\n",
    "else:\n",
    "    print(\"Pila con elementos\")\n",
    "    \n",
    "#Finalmente la operación top nos permite visualizar el elemento superior en la pila\n",
    "\n",
    "print(pila[-1])\n",
    "# print(pila[len(pila)-1])"
   ]
  },
  {
   "cell_type": "code",
   "execution_count": null,
   "id": "7938122b",
   "metadata": {},
   "outputs": [],
   "source": [
    "['tortilla 1', 'tortilla 2', 'tortilla 3', 'tortilla 4', 'tortilla 5']\n",
    "\n",
    "tortilla5\n",
    "tortilla4\n",
    ".\n",
    ".\n",
    ".\n",
    "tortilla1"
   ]
  }
 ],
 "metadata": {
  "kernelspec": {
   "display_name": "Python 3",
   "language": "python",
   "name": "python3"
  },
  "language_info": {
   "codemirror_mode": {
    "name": "ipython",
    "version": 3
   },
   "file_extension": ".py",
   "mimetype": "text/x-python",
   "name": "python",
   "nbconvert_exporter": "python",
   "pygments_lexer": "ipython3",
   "version": "3.8.5"
  }
 },
 "nbformat": 4,
 "nbformat_minor": 5
}
