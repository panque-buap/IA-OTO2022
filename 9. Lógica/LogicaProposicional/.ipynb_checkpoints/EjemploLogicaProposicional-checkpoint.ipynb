{
 "cells": [
  {
   "cell_type": "code",
   "execution_count": 27,
   "id": "9615dab1",
   "metadata": {},
   "outputs": [],
   "source": [
    "from logic import *"
   ]
  },
  {
   "cell_type": "code",
   "execution_count": 28,
   "id": "672bc320",
   "metadata": {},
   "outputs": [],
   "source": [
    "diaViernes = Symbol(\"Hoy es día viernes\")\n",
    "viajoCDMX = Symbol(\"Hoy viajo a la ciudad de México\")\n",
    "viajoPuebla = Symbol(\"Hoy viajo a la ciudad de Puebla\")\n",
    "\n",
    "premisas = [diaViernes, viajoCDMX, viajoPuebla]\n",
    "#Si hoy es viernes entonces viajo a la ciudad de Mexico (IF-THEN)\n",
    "#Yo puedo viajar a la CDMX o a la ciudad de Puebla (OR)\n",
    "#No puedo viajar a ambos lugares el mismo día  (NOT)\n",
    "#Hoy viajo a la ciudad Puebla    ------  (NOT(NOT))\n",
    "\n",
    "##################################################\n",
    "\n",
    "#Hoy no es viernes\n",
    "#Hoy no estoy en la ciudad de México\n",
    "\n",
    "#NOT AND OR  IF-THEN   IF ONLY IF"
   ]
  },
  {
   "cell_type": "code",
   "execution_count": 29,
   "id": "deaa4fbe",
   "metadata": {},
   "outputs": [],
   "source": [
    "#Base de conocimiento\n",
    "\n",
    "Conocimiento1 = Implication(diaViernes, viajoCDMX)\n",
    "Conocimiento2 = Or(viajoCDMX, viajoPuebla)\n",
    "Conocimiento3 = Not(And(viajoCDMX,viajoPuebla))\n",
    "Conocimiento4 = viajoPuebla\n",
    "\n",
    "ConocimientoTotal = And(Conocimiento1,\n",
    "                       Conocimiento2,\n",
    "                       Conocimiento3,\n",
    "                       Conocimiento4)\n"
   ]
  },
  {
   "cell_type": "code",
   "execution_count": 24,
   "id": "07913acc",
   "metadata": {},
   "outputs": [
    {
     "name": "stdout",
     "output_type": "stream",
     "text": [
      "False\n"
     ]
    }
   ],
   "source": [
    "print(model_check(ConocimientoTotal, diaViernes))"
   ]
  },
  {
   "cell_type": "code",
   "execution_count": 25,
   "id": "14efd75b",
   "metadata": {},
   "outputs": [
    {
     "name": "stdout",
     "output_type": "stream",
     "text": [
      "False\n"
     ]
    }
   ],
   "source": [
    "print(model_check(ConocimientoTotal, viajoCDMX))"
   ]
  },
  {
   "cell_type": "code",
   "execution_count": 26,
   "id": "3ae0ca6e",
   "metadata": {},
   "outputs": [
    {
     "name": "stdout",
     "output_type": "stream",
     "text": [
      "True\n"
     ]
    }
   ],
   "source": [
    "print(model_check(ConocimientoTotal, viajoPuebla))"
   ]
  },
  {
   "cell_type": "code",
   "execution_count": 32,
   "id": "1c70ae42",
   "metadata": {},
   "outputs": [
    {
     "name": "stdout",
     "output_type": "stream",
     "text": [
      "Hoy es día viernes = False\n",
      "Hoy viajo a la ciudad de México = False\n",
      "Hoy viajo a la ciudad de Puebla = True\n"
     ]
    }
   ],
   "source": [
    "for premisa in premisas:\n",
    "    print(f\"{premisa} = {model_check(ConocimientoTotal, premisa)}\")"
   ]
  },
  {
   "cell_type": "code",
   "execution_count": null,
   "id": "6c2f88f1",
   "metadata": {},
   "outputs": [],
   "source": []
  }
 ],
 "metadata": {
  "kernelspec": {
   "display_name": "Python 3 (ipykernel)",
   "language": "python",
   "name": "python3"
  },
  "language_info": {
   "codemirror_mode": {
    "name": "ipython",
    "version": 3
   },
   "file_extension": ".py",
   "mimetype": "text/x-python",
   "name": "python",
   "nbconvert_exporter": "python",
   "pygments_lexer": "ipython3",
   "version": "3.9.12"
  }
 },
 "nbformat": 4,
 "nbformat_minor": 5
}
