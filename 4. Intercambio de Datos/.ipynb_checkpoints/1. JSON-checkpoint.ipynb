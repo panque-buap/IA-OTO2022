{
 "cells": [
  {
   "cell_type": "code",
   "execution_count": null,
   "metadata": {
    "id": "MxfMuk3GHIZi"
   },
   "outputs": [],
   "source": [
    "#Java Script Object Notation \n",
    "\n",
    "#Es un formato (notación) el cual es utilizado para intercambiar información\n",
    "\n",
    "#Caracteristicas:\n",
    "  #Ligero\n",
    "  #Facil de entender \n",
    "  #Es compatible con lenguajes de programación\n",
    "\n",
    "#Sintaxis\n",
    "\n",
    "objeto1 = {\n",
    "    \"maquina\": 1,\n",
    "    \"id\": 9473423,\n",
    "    \"modelo\": 2007,\n",
    "    \"ubicacion\": \"Puebla\",\n",
    "    \"timestamp\": \"2022-08-29:07:41:32\",\n",
    "    \"sensores\": {\n",
    "        \"temperatura\": [25.6, 15.4, 12],\n",
    "        \"presion\": 4.1,\n",
    "        \"humedad\": 92\n",
    "    },\n",
    "\n",
    "    \"actuador\": False\n",
    "\n",
    "}\n"
   ]
  },
  {
   "cell_type": "code",
   "execution_count": null,
   "metadata": {
    "colab": {
     "base_uri": "https://localhost:8080/"
    },
    "id": "n9IKVOL3PTC3",
    "outputId": "fca274f8-e1d6-41f7-eca6-951cbc7fd65a"
   },
   "outputs": [
    {
     "data": {
      "text/plain": [
       "{'maquina': 1,\n",
       " 'id': 9473423,\n",
       " 'modelo': 2007,\n",
       " 'ubicacion': 'Puebla',\n",
       " 'timestamp': '2022-08-29:07:41:32',\n",
       " 'sensores': {'temperatura': [25.6, 15.4, 12], 'presion': 4.1, 'humedad': 92},\n",
       " 'actuador': False}"
      ]
     },
     "execution_count": 22,
     "metadata": {},
     "output_type": "execute_result"
    }
   ],
   "source": [
    "objeto1"
   ]
  },
  {
   "cell_type": "code",
   "execution_count": null,
   "metadata": {
    "colab": {
     "base_uri": "https://localhost:8080/"
    },
    "id": "VTfDhnWbOPF1",
    "outputId": "bbcd0116-03c4-41a7-a09b-cde338d60665"
   },
   "outputs": [
    {
     "data": {
      "text/plain": [
       "dict"
      ]
     },
     "execution_count": 23,
     "metadata": {},
     "output_type": "execute_result"
    }
   ],
   "source": [
    "type(objeto1)"
   ]
  },
  {
   "cell_type": "code",
   "execution_count": null,
   "metadata": {
    "id": "Pl0V3BbENHS1"
   },
   "outputs": [],
   "source": [
    "#Diferencias entre diccionario y JSON\n",
    "\n",
    "\n",
    "#Diccionario              #JSON\n",
    "int, float                Number\n",
    "True, False               true, false\n",
    "list, tuple               arreglos\n",
    "dict                      Object\n",
    "\n"
   ]
  },
  {
   "cell_type": "code",
   "execution_count": null,
   "metadata": {
    "id": "Zhop38dAMp0t"
   },
   "outputs": [],
   "source": [
    "diccionario = {\n",
    "    \"booleano\": True\n",
    "}"
   ]
  },
  {
   "cell_type": "code",
   "execution_count": null,
   "metadata": {
    "colab": {
     "base_uri": "https://localhost:8080/"
    },
    "id": "PrheEGRTNbl5",
    "outputId": "7ee9933d-f9b0-4851-dde7-96ed301a9de4"
   },
   "outputs": [
    {
     "data": {
      "text/plain": [
       "{'booleano': True}"
      ]
     },
     "execution_count": 3,
     "metadata": {},
     "output_type": "execute_result"
    }
   ],
   "source": [
    "diccionario"
   ]
  },
  {
   "cell_type": "code",
   "execution_count": null,
   "metadata": {
    "id": "JRItdFDbNclK"
   },
   "outputs": [],
   "source": [
    "import json"
   ]
  },
  {
   "cell_type": "code",
   "execution_count": null,
   "metadata": {
    "colab": {
     "base_uri": "https://localhost:8080/"
    },
    "id": "BgxUX7t4OxRb",
    "outputId": "4cdb708a-aecd-4280-c510-609d1918c3b3"
   },
   "outputs": [
    {
     "name": "stdout",
     "output_type": "stream",
     "text": [
      "{\"maquina\": 1, \"id\": 9473423, \"modelo\": 2007, \"ubicacion\": \"Puebla\", \"timestamp\": \"2022-08-29:07:41:32\", \"sensores\": {\"temperatura\": [25.6, 15.4, 12], \"presion\": 4.1, \"humedad\": 92}, \"actuador\": false}\n"
     ]
    },
    {
     "data": {
      "text/plain": [
       "str"
      ]
     },
     "execution_count": 25,
     "metadata": {},
     "output_type": "execute_result"
    }
   ],
   "source": [
    "#parsear diccionario a JSON \n",
    "\n",
    "objeto1JSON = json.dumps(objeto1)\n",
    "print(objeto1JSON)\n",
    "type(objeto1JSON)\n",
    "\n",
    "\n"
   ]
  },
  {
   "cell_type": "code",
   "execution_count": null,
   "metadata": {
    "colab": {
     "base_uri": "https://localhost:8080/"
    },
    "id": "tPPe24qyPQiM",
    "outputId": "cf20c547-67ec-44a0-c289-cf74397445b6"
   },
   "outputs": [
    {
     "name": "stdout",
     "output_type": "stream",
     "text": [
      "{'maquina': 1, 'id': 9473423, 'modelo': 2007, 'ubicacion': 'Puebla', 'timestamp': '2022-08-29:07:41:32', 'sensores': {'temperatura': [25.6, 15.4, 12], 'presion': 4.1, 'humedad': 92}, 'actuador': False}\n"
     ]
    },
    {
     "data": {
      "text/plain": [
       "dict"
      ]
     },
     "execution_count": 26,
     "metadata": {},
     "output_type": "execute_result"
    }
   ],
   "source": [
    "#parsear JSON a diccionario\n",
    "\n",
    "objeto1Diccionario = json.loads(objeto1JSON)\n",
    "print(objeto1Diccionario)\n",
    "type(objeto1Diccionario)"
   ]
  },
  {
   "cell_type": "code",
   "execution_count": null,
   "metadata": {
    "colab": {
     "base_uri": "https://localhost:8080/"
    },
    "id": "Tmt_T7c4QX09",
    "outputId": "ea3cd10c-9e8c-4f7d-a610-ee86ce041f8d"
   },
   "outputs": [
    {
     "name": "stdout",
     "output_type": "stream",
     "text": [
      "25.6\n"
     ]
    }
   ],
   "source": [
    "print(objeto1Diccionario[\"sensores\"][\"temperatura\"][0])"
   ]
  },
  {
   "cell_type": "code",
   "execution_count": null,
   "metadata": {
    "id": "lvgest6TQml8"
   },
   "outputs": [],
   "source": []
  }
 ],
 "metadata": {
  "colab": {
   "provenance": []
  },
  "kernelspec": {
   "display_name": "Python 3",
   "name": "python3"
  },
  "language_info": {
   "name": "python"
  }
 },
 "nbformat": 4,
 "nbformat_minor": 0
}
