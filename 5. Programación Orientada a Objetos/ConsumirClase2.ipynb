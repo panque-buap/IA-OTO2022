{
 "cells": [
  {
   "cell_type": "code",
   "execution_count": 2,
   "id": "bb44082f",
   "metadata": {},
   "outputs": [],
   "source": [
    "from Biblioteca.Clase import *  #Importar todo el código del archivo Clase (incluyendo todas las clases)"
   ]
  },
  {
   "cell_type": "code",
   "execution_count": 4,
   "id": "e5798db3",
   "metadata": {},
   "outputs": [
    {
     "name": "stdout",
     "output_type": "stream",
     "text": [
      "Algoritmo 2 de Algoritmos Clasificacion 2\n"
     ]
    }
   ],
   "source": [
    "objeto1 = Algoritmos_Clasificacion2()\n",
    "objeto1.Algoritmo2_C2()"
   ]
  },
  {
   "cell_type": "code",
   "execution_count": null,
   "id": "8b82bd1f",
   "metadata": {},
   "outputs": [],
   "source": []
  }
 ],
 "metadata": {
  "kernelspec": {
   "display_name": "Python 3",
   "language": "python",
   "name": "python3"
  },
  "language_info": {
   "codemirror_mode": {
    "name": "ipython",
    "version": 3
   },
   "file_extension": ".py",
   "mimetype": "text/x-python",
   "name": "python",
   "nbconvert_exporter": "python",
   "pygments_lexer": "ipython3",
   "version": "3.8.5"
  }
 },
 "nbformat": 4,
 "nbformat_minor": 5
}
