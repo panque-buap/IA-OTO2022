{
 "cells": [
  {
   "cell_type": "code",
   "execution_count": null,
   "metadata": {
    "colab": {
     "base_uri": "https://localhost:8080/"
    },
    "id": "Z--_hGZAaIb8",
    "outputId": "16bf447f-ed5f-40a0-c3e5-6a97a14372dc"
   },
   "outputs": [
    {
     "name": "stdout",
     "output_type": "stream",
     "text": [
      "Método constructor\n",
      "<__main__.PersonajeVideojuego object at 0x7f722b1c3c50>\n",
      "Método constructor\n",
      "<__main__.PersonajeVideojuego object at 0x7f7241c02c90>\n",
      "Método constructor\n",
      "Paco\n",
      "Maria\n",
      "Juanito\n",
      "Maria\n"
     ]
    }
   ],
   "source": [
    "#Programacion Orientada a Objetos\n",
    "\n",
    "class PersonajeVideojuego:\n",
    "\n",
    "  def __init__(self, nombreUsuario):\n",
    "    print(\"Método constructor\")\n",
    "    self.nombre = nombreUsuario\n",
    "    # AmigaPaco.nombre = \"Maria\"\n",
    "    # PapaPaco.nombre = \"Rodrigo\"\n",
    "\n",
    "  \n",
    "  # vida = 100\n",
    "  # estamina = 100\n",
    "  # color = \"cafe\"\n",
    "  caida = 10\n",
    "\n",
    "  def caminar():\n",
    "    print(\"Caminando\")\n",
    "\n",
    "  def saltar():\n",
    "    print(\"Saltando\")\n",
    "\n",
    "  def agarrarObjetos():\n",
    "    print(\"Agarrando objetos\")\n",
    "\n",
    "\n",
    "Paco = PersonajeVideojuego(\"Paco\")\n",
    "print(Paco)\n",
    "AmigaPaco = PersonajeVideojuego(\"Maria\")\n",
    "print(AmigaPaco)\n",
    "PapaPaco = PersonajeVideojuego(\"Rodrigo\")\n",
    "# Paco.caminar()\n",
    "# AmigaPaco.caminar()\n",
    "\n",
    "print(Paco.nombre)\n",
    "print(AmigaPaco.nombre)\n",
    "\n",
    "\n",
    "Paco.nombre = \"Juanito\"\n",
    "\n",
    "print(Paco.nombre)\n",
    "print(AmigaPaco.nombre)\n",
    "\n",
    "\n",
    "# print(AmigaPaco.vida)\n",
    "# print(Paco.vida)\n",
    "\n",
    "# AmigaPaco.vida =  80\n",
    "# print(AmigaPaco.vida)\n",
    "# print(Paco.vida)\n"
   ]
  },
  {
   "cell_type": "code",
   "execution_count": null,
   "metadata": {
    "id": "MrLp6VaDmRiz"
   },
   "outputs": [],
   "source": [
    "def sumar(a, b):\n",
    "  pass\n",
    "\n",
    "sumar(1,2)"
   ]
  },
  {
   "cell_type": "code",
   "execution_count": null,
   "metadata": {
    "id": "rd1742AmSASu"
   },
   "outputs": [],
   "source": [
    "#Ejemplo 2\n",
    "\n",
    "class Carro:\n",
    "\n",
    "  tieneLuces = True    #atributo general\n",
    "\n",
    "  def __init__(self, marca,modelo,color):     #atributos especificos\n",
    "    self.marca = marca\n",
    "    self.modelo = modelo\n",
    "    self.color = color\n",
    "\n",
    "  def avanzarAdelante(self):  #métodos \n",
    "    print(\"El auto avanza hacia adelante\")\n",
    "  \n",
    "carro1 = Carro(\"Ford\", 2010, \"amarillo\")\n",
    "carro2 = Carro(\"VW\", 2005, \"rojo\")\n",
    "carro3 = Carro(\"VW\", 2005, \"rojo\")\n"
   ]
  },
  {
   "cell_type": "code",
   "execution_count": null,
   "metadata": {
    "colab": {
     "base_uri": "https://localhost:8080/"
    },
    "id": "1Z6BR4GlTQ0P",
    "outputId": "ba72e77e-a23f-409c-8424-a8ca344ff657"
   },
   "outputs": [
    {
     "name": "stdout",
     "output_type": "stream",
     "text": [
      "2005\n",
      "VW\n",
      "rojo\n",
      "0x7fcdd87f5e50\n",
      "True\n",
      "El auto avanza hacia adelante\n"
     ]
    }
   ],
   "source": [
    "print(carro2.modelo)\n",
    "print(carro2.marca)\n",
    "print(carro2.color) \n",
    "\n",
    "print(hex(id(carro2)))\n",
    "\n",
    "print(carro2.tieneLuces) \n",
    "\n",
    "carro2.avanzarAdelante()"
   ]
  },
  {
   "cell_type": "code",
   "execution_count": null,
   "metadata": {
    "colab": {
     "base_uri": "https://localhost:8080/"
    },
    "id": "5BN0We7TTTGT",
    "outputId": "6a2efa3d-8b96-47d3-f3f5-aa6730a85d68"
   },
   "outputs": [
    {
     "name": "stdout",
     "output_type": "stream",
     "text": [
      "2005\n",
      "VW\n",
      "rojo\n",
      "0x7fcdd873d3d0\n"
     ]
    }
   ],
   "source": [
    "print(carro3.modelo)\n",
    "print(carro3.marca)\n",
    "print(carro3.color) \n",
    "print(hex(id(carro3)))"
   ]
  },
  {
   "cell_type": "code",
   "execution_count": null,
   "metadata": {
    "colab": {
     "base_uri": "https://localhost:8080/"
    },
    "id": "5YAh9thOUM-v",
    "outputId": "f7ead301-5544-4866-b96f-e2fd49a881ba"
   },
   "outputs": [
    {
     "data": {
      "text/plain": [
       "['__class__',\n",
       " '__delattr__',\n",
       " '__dict__',\n",
       " '__dir__',\n",
       " '__doc__',\n",
       " '__eq__',\n",
       " '__format__',\n",
       " '__ge__',\n",
       " '__getattribute__',\n",
       " '__gt__',\n",
       " '__hash__',\n",
       " '__init__',\n",
       " '__init_subclass__',\n",
       " '__le__',\n",
       " '__lt__',\n",
       " '__module__',\n",
       " '__ne__',\n",
       " '__new__',\n",
       " '__reduce__',\n",
       " '__reduce_ex__',\n",
       " '__repr__',\n",
       " '__setattr__',\n",
       " '__sizeof__',\n",
       " '__str__',\n",
       " '__subclasshook__',\n",
       " '__weakref__',\n",
       " 'avanzarAdelante',\n",
       " 'color',\n",
       " 'marca',\n",
       " 'modelo',\n",
       " 'tieneLuces']"
      ]
     },
     "execution_count": 27,
     "metadata": {},
     "output_type": "execute_result"
    }
   ],
   "source": [
    "dir(carro2)"
   ]
  },
  {
   "cell_type": "code",
   "execution_count": null,
   "metadata": {
    "colab": {
     "base_uri": "https://localhost:8080/"
    },
    "id": "EP4Tb8qgV9Hd",
    "outputId": "421476b3-d919-4c8f-fea0-a83c5b612386"
   },
   "outputs": [
    {
     "name": "stdout",
     "output_type": "stream",
     "text": [
      "carro 0x7fcdd86bee10\n",
      "carro 0x7fcdd86bec50\n",
      "Son iguales\n",
      "<class '__main__.Carro'>\n"
     ]
    }
   ],
   "source": [
    "#Ejemplo 3\n",
    "\n",
    "class Carro:\n",
    "\n",
    "  tieneLuces = True    #atributo general\n",
    "\n",
    "  def __init__(self, marca,modelo,color):     #atributos especificos\n",
    "    self.marca = marca\n",
    "    self.modelo = modelo\n",
    "    self.color = color\n",
    "\n",
    "  def __str__(self):\n",
    "    return \"carro\" + \" \" + hex(id(self))\n",
    "\n",
    "  def __eq__(self, other):\n",
    "\n",
    "    if isinstance(other,Carro):\n",
    "      return self.marca == other.marca and self.modelo == other.modelo and self.color == other.color\n",
    "    else:\n",
    "      return \"son diferentes\"\n",
    "\n",
    "  def avanzarAdelante(self):  #métodos \n",
    "    print(\"El auto avanza hacia adelante\")\n",
    "  \n",
    "carro1 = Carro(\"Ford\", 2010, \"amarillo\")\n",
    "\n",
    "carro2 = Carro(\"VW\", 2005, \"rojo\")\n",
    "carro3 = Carro(\"VW\", 2005, \"rojo\")\n",
    "\n",
    "print(carro2)\n",
    "print(carro1)\n",
    "\n",
    "\n",
    "if carro2 == carro3:\n",
    "  print(\"Son iguales\")\n",
    "\n",
    "print(type(carro2))"
   ]
  },
  {
   "cell_type": "code",
   "execution_count": null,
   "metadata": {
    "id": "IVFIo9ksWUeA"
   },
   "outputs": [],
   "source": []
  }
 ],
 "metadata": {
  "colab": {
   "provenance": []
  },
  "kernelspec": {
   "display_name": "Python 3",
   "language": "python",
   "name": "python3"
  },
  "language_info": {
   "codemirror_mode": {
    "name": "ipython",
    "version": 3
   },
   "file_extension": ".py",
   "mimetype": "text/x-python",
   "name": "python",
   "nbconvert_exporter": "python",
   "pygments_lexer": "ipython3",
   "version": "3.8.5"
  }
 },
 "nbformat": 4,
 "nbformat_minor": 1
}
