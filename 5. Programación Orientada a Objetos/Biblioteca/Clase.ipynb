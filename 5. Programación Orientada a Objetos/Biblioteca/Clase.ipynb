{
 "cells": [
  {
   "cell_type": "code",
   "execution_count": 1,
   "id": "9156a950",
   "metadata": {},
   "outputs": [],
   "source": [
    "class Algoritmos_Clasificacion1:\n",
    "    def Algoritmo1_C1(self):\n",
    "        print (\"Algoritmo 1 de Algoritmos Clasificacion 1\")\n",
    "    def Algoritmo2_C1(self):\n",
    "        print (\"Algoritmo 2 de Algoritmos Clasificacion 1\")\n",
    "\n",
    "class Algoritmos_Clasificacion2:\n",
    "    def Algoritmo1_C2(self):\n",
    "        print (\"Algoritmo 1 de Algoritmos Clasificacion 2\")\n",
    "    def Algoritmo2_C2(self):\n",
    "        print (\"Algoritmo 2 de Algoritmos Clasificacion 2\")\n",
    "    def Algoritmo3_C2(self):\n",
    "        print (\"Algoritmo 2 de Algoritmos Clasificacion 2\")\n",
    "\n",
    "class Algoritmos_Clasificacion3:\n",
    "    def Algoritmo1_c3(self):\n",
    "        print (\"Algoritmo 1 de Algoritmos Clasificacion 3\")\n",
    "\n"
   ]
  },
  {
   "cell_type": "code",
   "execution_count": null,
   "id": "34eb4c21",
   "metadata": {},
   "outputs": [],
   "source": []
  }
 ],
 "metadata": {
  "kernelspec": {
   "display_name": "Python 3",
   "language": "python",
   "name": "python3"
  },
  "language_info": {
   "codemirror_mode": {
    "name": "ipython",
    "version": 3
   },
   "file_extension": ".py",
   "mimetype": "text/x-python",
   "name": "python",
   "nbconvert_exporter": "python",
   "pygments_lexer": "ipython3",
   "version": "3.8.5"
  }
 },
 "nbformat": 4,
 "nbformat_minor": 5
}
