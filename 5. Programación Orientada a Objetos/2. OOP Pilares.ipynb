{
 "cells": [
  {
   "cell_type": "code",
   "execution_count": null,
   "id": "6a638a3e",
   "metadata": {},
   "outputs": [],
   "source": [
    "#Los pilares de la programación orientada a objetos son cuatro\n",
    "\n",
    "#Abstracción\n",
    "#Encapsulado\n",
    "#Herencia\n",
    "#Polimorfismo   -->  muchas formas"
   ]
  },
  {
   "cell_type": "code",
   "execution_count": null,
   "id": "df0646f0",
   "metadata": {},
   "outputs": [],
   "source": [
    "#Abstracción\n",
    "\n",
    "#Proceso de simplificar un sistema complejo de tal manera que se omitan las caracteristicas innecesarias\n",
    "#y solamente se muestre lo escencial de forma sencilla\n",
    "\n",
    "#Ejemplo, en un videojuego al usuario le interesa saber que cuando presione un boton el personaje salta\n",
    "#no es necesario que el usuario conozca que existe un cambio de coordenadas y que estas se incrementan y luego\n",
    "#decrementan para realizar tal acción\n",
    "\n",
    "#En Python el proceso de abstracción comienza cuando nosotros conceptualizamos el objeto (es decir la entidad\n",
    "#a la que nosotros estaremos creando atributos y metodos, es decir sus propiedades y sus acciones)\n",
    "\n",
    "class PersonajeVideojuego:\n",
    "    pass\n"
   ]
  },
  {
   "cell_type": "code",
   "execution_count": null,
   "id": "52753a5e",
   "metadata": {},
   "outputs": [],
   "source": [
    "#Encapsulación\n",
    "\n",
    "class PersonajeVideojuego:\n",
    "    \n",
    "    def __init__(self, nombre, vida, color):\n",
    "        self.nombre = nombre\n",
    "        self.vida = vida\n",
    "        self.color = color\n",
    "        self.__codigoSecreto = input(\"Ingrese su codigo secreto: \")\n",
    "        \n",
    "    \n",
    "    def caminarAdelante(self):\n",
    "        print(\"Caminando hacia adelante...\")\n",
    "        \n",
    "    def saltar(self):\n",
    "        print(\"Saltando\")\n",
    "        \n",
    "    def mostrarCodigoSecreto(self):\n",
    "        print(self.__codigoSecreto)\n",
    "        \n",
    "        \n",
    "Personaje1 = PersonajeVideojuego(\"Mary\", 100, \"verde\")\n",
    "\n",
    "print(Personaje1.nombre)\n",
    "print(Personaje1.vida)\n",
    "# print(Personaje1.__codigoSecreto)\n",
    "Personaje1.mostrarCodigoSecreto()\n",
    "\n",
    "Personaje1.caminarAdelante()"
   ]
  },
  {
   "cell_type": "code",
   "execution_count": 8,
   "id": "1e28f318",
   "metadata": {},
   "outputs": [
    {
     "name": "stdout",
     "output_type": "stream",
     "text": [
      "100\n",
      "Personaje Humano hablando en ingles...\n",
      "50\n",
      "Personaje Animal hablando animaloide...\n"
     ]
    }
   ],
   "source": [
    "#Herencia\n",
    "\n",
    "class PersonajeVideojuego3:\n",
    "    \n",
    "    def __init__(self, nombre, vida, color):\n",
    "        self.nombre = nombre\n",
    "        self.vida = vida\n",
    "        self.color = color        \n",
    "    \n",
    "    def caminarAdelante(self):\n",
    "        print(\"Caminando hacia adelante...\")\n",
    "        \n",
    "    def saltar(self):\n",
    "        print(\"Saltando\")\n",
    "        \n",
    "class PersonajeHumano(PersonajeVideojuego3):\n",
    "    \n",
    "    def __init__(self, nombre, vida, color, inteligencia):\n",
    "        super().__init__(nombre, vida, color)\n",
    "#         PersonajeVideojuego2.__init__(self, nombre, vida, color)\n",
    "#         self.nombre = nombre\n",
    "#         self.vida = vida\n",
    "#         self.color = color         \n",
    "        self.inteligencia = inteligencia\n",
    "    \n",
    "    def hablarIngles(self):\n",
    "        print(\"Personaje Humano hablando en ingles...\")\n",
    "\n",
    "class PersonajeAnimal(PersonajeVideojuego3):\n",
    "    \n",
    "    def __init__(self, nombre, vida, color, instinto):\n",
    "        super().__init__(nombre, vida, color)\n",
    "#         PersonajeVideojuego2.__init__(self, nombre, vida, color)\n",
    "        self.instinto = instinto\n",
    "    \n",
    "    def hablarAnimal(self):\n",
    "        print(\"Personaje Animal hablando animaloide...\")\n",
    "\n",
    "personaje1 = PersonajeHumano(\"Boshi\", 100, \"rojo\", 80)\n",
    "print(personaje1.vida)\n",
    "personaje1.hablarIngles()\n",
    "\n",
    "personaje2 = PersonajeAnimal(\"Remi\", 50, \"gris\",75)\n",
    "print(personaje2.vida)\n",
    "personaje2.hablarAnimal()"
   ]
  },
  {
   "cell_type": "code",
   "execution_count": 11,
   "id": "5d13b6b7",
   "metadata": {},
   "outputs": [
    {
     "name": "stdout",
     "output_type": "stream",
     "text": [
      "ataque especial Humano...\n",
      "ataque especial Animal...\n"
     ]
    }
   ],
   "source": [
    "#Polimorfismo\n",
    "\n",
    "class PersonajeVideojuego:\n",
    "    \n",
    "    def __init__(self, nombre, vida, color):\n",
    "        self.nombre = nombre\n",
    "        self.vida = vida\n",
    "        self.color = color        \n",
    "    \n",
    "    def caminarAdelante(self):\n",
    "        print(\"Caminando hacia adelante...\")\n",
    "        \n",
    "    def saltar(self):\n",
    "        print(\"Saltando\")\n",
    "\n",
    "        \n",
    "class PersonajeHumano(PersonajeVideojuego):\n",
    "    \n",
    "    def __init__(self, nombre, vida, color, inteligencia):\n",
    "        super().__init__(nombre, vida, color)        \n",
    "        self.inteligencia = inteligencia\n",
    "    \n",
    "    def hablarIngles(self):\n",
    "        print(\"Personaje Humano hablando en ingles...\")\n",
    "        \n",
    "    def ataqueEspecial(self):\n",
    "        print(\"ataque especial Humano...\")\n",
    "\n",
    "class PersonajeAnimal(PersonajeVideojuego):\n",
    "    \n",
    "    def __init__(self, nombre, vida, color, instinto):\n",
    "        super().__init__(nombre, vida, color)\n",
    "        self.instinto = instinto\n",
    "    \n",
    "    def hablarAnimal(self):\n",
    "        print(\"Personaje Animal hablando animaloide...\")\n",
    "\n",
    "    def ataqueEspecial(self):\n",
    "        print(\"ataque especial Animal...\")\n",
    "\n",
    "personaje1 = PersonajeHumano(\"Boshi\", 100, \"rojo\", 80)\n",
    "personaje1.ataqueEspecial()\n",
    "\n",
    "personaje2 = PersonajeAnimal(\"Remi\", 50, \"gris\",75)\n",
    "personaje2.ataqueEspecial()"
   ]
  },
  {
   "cell_type": "code",
   "execution_count": null,
   "id": "2dda8bff",
   "metadata": {},
   "outputs": [],
   "source": []
  }
 ],
 "metadata": {
  "kernelspec": {
   "display_name": "Python 3",
   "language": "python",
   "name": "python3"
  },
  "language_info": {
   "codemirror_mode": {
    "name": "ipython",
    "version": 3
   },
   "file_extension": ".py",
   "mimetype": "text/x-python",
   "name": "python",
   "nbconvert_exporter": "python",
   "pygments_lexer": "ipython3",
   "version": "3.8.5"
  }
 },
 "nbformat": 4,
 "nbformat_minor": 5
}
