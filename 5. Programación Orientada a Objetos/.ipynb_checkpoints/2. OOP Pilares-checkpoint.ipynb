{
 "cells": [
  {
   "cell_type": "code",
   "execution_count": null,
   "id": "6a638a3e",
   "metadata": {},
   "outputs": [],
   "source": [
    "#Los pilares de la programación orientada a objetos son cuatro\n",
    "\n",
    "#Abstracción\n",
    "#Encapsulado\n",
    "#Herencia\n",
    "#Polimorfismo"
   ]
  },
  {
   "cell_type": "code",
   "execution_count": null,
   "id": "df0646f0",
   "metadata": {},
   "outputs": [],
   "source": [
    "#Abstracción\n",
    "\n",
    "#Proceso de simplificar un sistema complejo de tal manera que se omitan las caracteristicas innecesarias\n",
    "#y solamente se muestre lo escencial de forma sencilla\n",
    "\n",
    "#Ejemplo, en un videojuego al usuario le interesa saber que cuando presione un boton el personaje salta\n",
    "#no es necesario que el usuario conozca que existe un cambio de coordenadas y que estas se incrementan y luego\n",
    "#decrementan para realizar tal acción\n",
    "\n",
    "#En Python el proceso de abstracción comienza cuando nosotros conceptualizamos el objeto (es decir la entidad\n",
    "#a la que nosotros estaremos creando atributos y metodos, es decir sus propiedades y sus acciones)\n",
    "\n",
    "class PersonajeVideojuego:\n",
    "    pass\n"
   ]
  },
  {
   "cell_type": "code",
   "execution_count": 8,
   "id": "52753a5e",
   "metadata": {},
   "outputs": [
    {
     "name": "stdout",
     "output_type": "stream",
     "text": [
      "Ingrese su codigo secreto: 123\n",
      "Mary\n",
      "100\n",
      "123\n",
      "Caminando hacia adelante...\n"
     ]
    }
   ],
   "source": [
    "#Encapsulación\n",
    "\n",
    "class PersonajeVideojuego:\n",
    "    \n",
    "    def __init__(self, nombre, vida, color):\n",
    "        self.nombre = nombre\n",
    "        self.vida = vida\n",
    "        self.color = color\n",
    "        self.__codigoSecreto = input(\"Ingrese su codigo secreto: \")\n",
    "        \n",
    "    \n",
    "    def caminarAdelante(self):\n",
    "        print(\"Caminando hacia adelante...\")\n",
    "        \n",
    "    def saltar(self):\n",
    "        print(\"Saltando\")\n",
    "        \n",
    "    def mostrarCodigoSecreto(self):\n",
    "        print(self.__codigoSecreto)\n",
    "        \n",
    "        \n",
    "Personaje1 = PersonajeVideojuego(\"Mary\", 100, \"verde\")\n",
    "\n",
    "print(Personaje1.nombre)\n",
    "print(Personaje1.vida)\n",
    "# print(Personaje1.__codigoSecreto)\n",
    "Personaje1.mostrarCodigoSecreto()\n",
    "\n",
    "Personaje1.caminarAdelante()"
   ]
  },
  {
   "cell_type": "code",
   "execution_count": null,
   "id": "1e28f318",
   "metadata": {},
   "outputs": [],
   "source": [
    "#Herencia\n"
   ]
  }
 ],
 "metadata": {
  "kernelspec": {
   "display_name": "Python 3",
   "language": "python",
   "name": "python3"
  },
  "language_info": {
   "codemirror_mode": {
    "name": "ipython",
    "version": 3
   },
   "file_extension": ".py",
   "mimetype": "text/x-python",
   "name": "python",
   "nbconvert_exporter": "python",
   "pygments_lexer": "ipython3",
   "version": "3.8.5"
  }
 },
 "nbformat": 4,
 "nbformat_minor": 5
}
