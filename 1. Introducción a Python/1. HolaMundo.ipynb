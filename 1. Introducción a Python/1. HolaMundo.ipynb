{
 "cells": [
  {
   "cell_type": "markdown",
   "metadata": {
    "id": "1SYKpzXMZzWG"
   },
   "source": [
    "Este es mi primer programa en Python"
   ]
  },
  {
   "cell_type": "code",
   "execution_count": null,
   "metadata": {
    "colab": {
     "base_uri": "https://localhost:8080/"
    },
    "id": "9dEOWm8BVUOx",
    "outputId": "1b644457-7742-499b-9135-257bc85b5245"
   },
   "outputs": [
    {
     "name": "stdout",
     "output_type": "stream",
     "text": [
      "Hola Mundo,Adios Mundo,Bienvenidos\n"
     ]
    }
   ],
   "source": [
    "print(\"Hola Mundo\", end=\"\\n\")\n",
    "print(\"Adios Mundo\", end=\",\")\n",
    "print(\"Bienvenidos\")"
   ]
  },
  {
   "cell_type": "code",
   "execution_count": null,
   "metadata": {
    "colab": {
     "base_uri": "https://localhost:8080/"
    },
    "id": "VYcdxviIWz8O",
    "outputId": "1d18c301-2876-45af-bae1-b096996409bd"
   },
   "outputs": [
    {
     "name": "stdout",
     "output_type": "stream",
     "text": [
      "Mundo 1-Mundo 2-Mundo 3\n"
     ]
    }
   ],
   "source": [
    "print(\"Mundo 1\", \"Mundo 2\", \"Mundo 3\", sep=\"-\")"
   ]
  },
  {
   "cell_type": "code",
   "execution_count": null,
   "metadata": {
    "colab": {
     "base_uri": "https://localhost:8080/",
     "height": 36
    },
    "id": "wq_QomSyXtR-",
    "outputId": "1ed9e513-e068-4cce-c3bf-d8c261543258"
   },
   "outputs": [
    {
     "data": {
      "application/vnd.google.colaboratory.intrinsic+json": {
       "type": "string"
      },
      "text/plain": [
       "' \\n Comentario extendido,\\n es decir de varias líneas\\n )))\\n'"
      ]
     },
     "execution_count": 15,
     "metadata": {},
     "output_type": "execute_result"
    }
   ],
   "source": [
    "#Comentario de una sola línea\n",
    "\n",
    "''' \n",
    " Comentario extendido,\n",
    " es decir de varias líneas\n",
    " )))\n",
    "'''"
   ]
  },
  {
   "cell_type": "code",
   "execution_count": null,
   "metadata": {
    "id": "Y_nW3YM-ah_B"
   },
   "outputs": [],
   "source": [
    "# Este va a ser un comentario\n",
    "# Y esto de aca también será un comentario"
   ]
  },
  {
   "cell_type": "code",
   "execution_count": null,
   "metadata": {
    "colab": {
     "base_uri": "https://localhost:8080/"
    },
    "id": "W0N2-VUZcCWU",
    "outputId": "bcbca0f1-7b35-49c3-a94f-93229a59c0f0"
   },
   "outputs": [
    {
     "name": "stdout",
     "output_type": "stream",
     "text": [
      "15\n",
      "5\n",
      "15\n",
      "\n",
      "15\n",
      "0b101\n",
      "0xf\n"
     ]
    }
   ],
   "source": [
    "print(15)  #Impresión de un número del sistema decimal\n",
    "print(0b101)  #Impresión de un número del sistema binario\n",
    "print(0xF)  #Impresión de un número del sistema hexadecimal \n",
    "\n",
    "print()\n",
    "\n",
    "print(15)  #Impresión de un número del sistema decimal\n",
    "print(bin(0b101))  #Impresión de un número del sistema binario\n",
    "print(hex(0xF))  #Impresión de un número del sistema hexadecimal \n"
   ]
  },
  {
   "cell_type": "code",
   "execution_count": null,
   "metadata": {
    "colab": {
     "base_uri": "https://localhost:8080/"
    },
    "id": "NYRYypdWcFav",
    "outputId": "427b4653-8a6f-4b1a-be8d-4d5d9b823851"
   },
   "outputs": [
    {
     "name": "stdout",
     "output_type": "stream",
     "text": [
      "45.67\n",
      "45.67\n",
      "0.4567\n"
     ]
    }
   ],
   "source": [
    "print(45.67)\n",
    "print(4.567e1)\n",
    "print(4.567e-1)"
   ]
  },
  {
   "cell_type": "code",
   "execution_count": null,
   "metadata": {
    "colab": {
     "base_uri": "https://localhost:8080/"
    },
    "id": "b3bWrVaAd-Gf",
    "outputId": "397935b1-ee30-41b5-f4fe-f5aee0746433"
   },
   "outputs": [
    {
     "name": "stdout",
     "output_type": "stream",
     "text": [
      "(1+2j)\n"
     ]
    }
   ],
   "source": [
    "print(1 + 2j)"
   ]
  },
  {
   "cell_type": "code",
   "execution_count": null,
   "metadata": {
    "colab": {
     "base_uri": "https://localhost:8080/"
    },
    "id": "gE11H2YfeR1F",
    "outputId": "b72140d8-7d63-4066-cc06-f96297f59959"
   },
   "outputs": [
    {
     "name": "stdout",
     "output_type": "stream",
     "text": [
      "Ingrese un numero entero: 10\n",
      "10\n"
     ]
    }
   ],
   "source": [
    "#A continuación se muestra el comando input \n",
    "#Utilizado para adquirir datos en el programa\n",
    "\n",
    "variableNumero = input(\"Ingrese un numero entero: \")\n",
    "print(variableNumero)"
   ]
  },
  {
   "cell_type": "code",
   "execution_count": null,
   "metadata": {
    "id": "Hk3aW8Loom_Z"
   },
   "outputs": [],
   "source": []
  }
 ],
 "metadata": {
  "colab": {
   "collapsed_sections": [],
   "provenance": []
  },
  "kernelspec": {
   "display_name": "Python 3 (ipykernel)",
   "language": "python",
   "name": "python3"
  },
  "language_info": {
   "codemirror_mode": {
    "name": "ipython",
    "version": 3
   },
   "file_extension": ".py",
   "mimetype": "text/x-python",
   "name": "python",
   "nbconvert_exporter": "python",
   "pygments_lexer": "ipython3",
   "version": "3.9.12"
  }
 },
 "nbformat": 4,
 "nbformat_minor": 1
}
