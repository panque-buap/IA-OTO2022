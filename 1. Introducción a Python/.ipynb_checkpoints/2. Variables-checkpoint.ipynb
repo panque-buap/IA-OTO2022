{
 "cells": [
  {
   "cell_type": "code",
   "execution_count": null,
   "metadata": {
    "id": "EMbJF8_HecJI"
   },
   "outputs": [],
   "source": [
    "# ¿Que es una variable? \n",
    "#Es un elemento que puede cambiar durante el curso del programa (en alguno lenguajes de programacion con la condición de que sea del mismo tipo de dato)\n",
    "#Es una espacio de almacenamiento reservado ubicado en la memoria "
   ]
  },
  {
   "cell_type": "code",
   "execution_count": null,
   "metadata": {
    "id": "BCh1KH6RhtDt"
   },
   "outputs": [],
   "source": [
    "# tipado estatico\n",
    "\n",
    "# Nota:Cuando tenemos que asignar el tipo de dato en nuestra programación \n",
    "# Por ejemplo (en C/C++)\n",
    "\n",
    "# int numerito1 = 5;\n",
    "# int numerito2 = 5;\n",
    "# int numerito3 = 5;\n",
    "\n",
    "\n",
    "# tipado dinámico\n",
    "\n",
    "# Nota: Cuando el lenguaje de programación automáticamente detecta el tipo de dato\n",
    "\n",
    "# Por ejemplo Python\n",
    "\n",
    "# numerito = 5\n"
   ]
  },
  {
   "cell_type": "code",
   "execution_count": null,
   "metadata": {
    "colab": {
     "base_uri": "https://localhost:8080/"
    },
    "id": "q3t41KkOins8",
    "outputId": "73752415-fa1f-4999-8556-c70a660f68de"
   },
   "outputs": [
    {
     "name": "stdout",
     "output_type": "stream",
     "text": [
      "5\n",
      "0xabc180\n",
      "0xabc1c0\n"
     ]
    }
   ],
   "source": [
    "#Mi primer varible\n",
    "numerito = 5\n",
    "numerito2 = 7\n",
    "\n",
    "print(numerito)\n",
    "\n",
    "#Para acceder a la dirección de memoria en Python utilizamos el comando id\n",
    "print(hex(id(numerito)))\n",
    "print(hex(id(numerito2)))"
   ]
  },
  {
   "cell_type": "code",
   "execution_count": null,
   "metadata": {
    "colab": {
     "base_uri": "https://localhost:8080/"
    },
    "id": "v9eJJQ_IiqlC",
    "outputId": "d8ef2c37-3078-4f55-b0e8-4b97080cdf4f"
   },
   "outputs": [
    {
     "name": "stdout",
     "output_type": "stream",
     "text": [
      "5\n",
      "Hola Mundo\n"
     ]
    }
   ],
   "source": [
    "#En Python el proceso del type casting (conversión de tipos de datos) se realiza de manera muy sencilla \n",
    "\n",
    "variable = 5\n",
    "print(variable)\n",
    "\n",
    "variable = \"Hola Mundo\"\n",
    "print(variable)"
   ]
  },
  {
   "cell_type": "code",
   "execution_count": null,
   "metadata": {
    "colab": {
     "base_uri": "https://localhost:8080/"
    },
    "id": "88PT97ruj7xq",
    "outputId": "a71eeb71-f06e-4286-b09a-0778815b9082"
   },
   "outputs": [
    {
     "name": "stdout",
     "output_type": "stream",
     "text": [
      "<class 'int'>\n",
      "<class 'str'>\n",
      "<class 'float'>\n",
      "<class 'bool'>\n"
     ]
    }
   ],
   "source": [
    "#En Python es posible determinar el tipo de dato una variable mediante el comando type\n",
    "\n",
    "variable = 5\n",
    "print(type(variable))\n",
    "\n",
    "variable = \"Hola Mundo\"\n",
    "print(type(variable))\n",
    "\n",
    "variable = 5.8\n",
    "print(type(variable))\n",
    "\n",
    "variable = False \n",
    "print(type(variable))\n"
   ]
  },
  {
   "cell_type": "code",
   "execution_count": null,
   "metadata": {
    "id": "NeKn0j48kj-g"
   },
   "outputs": [],
   "source": []
  }
 ],
 "metadata": {
  "colab": {
   "collapsed_sections": [],
   "provenance": []
  },
  "kernelspec": {
   "display_name": "Python 3",
   "name": "python3"
  },
  "language_info": {
   "name": "python"
  }
 },
 "nbformat": 4,
 "nbformat_minor": 0
}
