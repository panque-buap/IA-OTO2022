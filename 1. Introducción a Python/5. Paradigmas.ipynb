{
 "cells": [
  {
   "cell_type": "code",
   "execution_count": null,
   "metadata": {
    "colab": {
     "base_uri": "https://localhost:8080/"
    },
    "id": "GW7Dp1wbTIdh",
    "outputId": "d79da174-8efa-44de-cf63-bdf011466b1f"
   },
   "outputs": [
    {
     "name": "stdout",
     "output_type": "stream",
     "text": [
      "Intro número uno: 2\n",
      "Intro numero dos: 2\n",
      "La suma es:  4.0\n"
     ]
    }
   ],
   "source": [
    "#Es un tipo de estructura de programación (es la forma)\n",
    "\n",
    "#Paradigma imperativo:\n",
    "    # Paradigma máquina \n",
    "    # Paradigma ensamblador \n",
    "    # Paradigma de procedimientos\n",
    "\n",
    "n1=float(input(\"Intro número uno: \"))\n",
    "n2=float(input(\"Intro numero dos: \"))\n",
    "suma=n1+n2\n",
    "\n",
    "print(\"La suma es: \",suma)\n"
   ]
  },
  {
   "cell_type": "code",
   "execution_count": null,
   "metadata": {
    "colab": {
     "base_uri": "https://localhost:8080/"
    },
    "id": "387SLStnULls",
    "outputId": "a5443b61-feda-4058-d164-50429cbea3be"
   },
   "outputs": [
    {
     "name": "stdout",
     "output_type": "stream",
     "text": [
      "Sum of 2 and 2 is 4\n"
     ]
    }
   ],
   "source": [
    "num1 = 2\n",
    "num2 = 2\n",
    "  \n",
    "sum = num1 + num2 \n",
    "  \n",
    "print(\"Sum of {0} and {1} is {2}\" .format(num1, num2, sum)) \n"
   ]
  },
  {
   "cell_type": "code",
   "execution_count": null,
   "metadata": {
    "colab": {
     "base_uri": "https://localhost:8080/"
    },
    "id": "FgGpgWd5UO8s",
    "outputId": "16cecc4a-c01a-4728-b5c1-f857d5206a99"
   },
   "outputs": [
    {
     "name": "stdout",
     "output_type": "stream",
     "text": [
      "4\n"
     ]
    }
   ],
   "source": [
    "#Paradigma declarativo:\n",
    "  #Paradigma funcional\n",
    "\n",
    "#import bibliotecaMatematica \n",
    "\n",
    "def suma(n1,n2):\n",
    "  s = n1+n2\n",
    "  return s\n",
    "\n",
    "def resta(n1,n2):\n",
    "  s = n1-n2\n",
    "  return s\n",
    "\n",
    "def multiplicacion(n1,n2):\n",
    "  s = n1*n2\n",
    "  return s\n",
    "\n",
    "print(suma(1,3))\n"
   ]
  },
  {
   "cell_type": "code",
   "execution_count": null,
   "metadata": {
    "id": "41Kw5qwDWBb1"
   },
   "outputs": [],
   "source": []
  }
 ],
 "metadata": {
  "colab": {
   "provenance": []
  },
  "kernelspec": {
   "display_name": "Python 3",
   "name": "python3"
  },
  "language_info": {
   "name": "python"
  }
 },
 "nbformat": 4,
 "nbformat_minor": 0
}
