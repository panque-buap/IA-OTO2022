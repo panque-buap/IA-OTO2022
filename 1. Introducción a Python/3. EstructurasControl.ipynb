{
 "cells": [
  {
   "cell_type": "code",
   "execution_count": null,
   "metadata": {
    "colab": {
     "base_uri": "https://localhost:8080/"
    },
    "id": "nMPVYWlOOiwa",
    "outputId": "d12e1fdc-9699-490d-d32f-e2f0af6fff6d"
   },
   "outputs": [
    {
     "name": "stdout",
     "output_type": "stream",
     "text": [
      "Ingrese un numero: 12\n",
      "El numero es menor a 20\n"
     ]
    }
   ],
   "source": [
    "#Forma en la se puede dictaminar el flujo de la información\n",
    "\n",
    "#IF ELSE \n",
    "#FOR\n",
    "#WHILE\n",
    "\n",
    "#CONDICIONAL IF\n",
    "\n",
    "variableCondicion = int(input(\"Ingrese un numero: \"))\n",
    "\n",
    "if (variableCondicion>20):\n",
    "  print(\"El numero es mayor a 20\")\n",
    "elif (variableCondicion<20):\n",
    "  print(\"El numero es menor a 20\")\n",
    "else:\n",
    "  print(\"El numero es igual a 20\")\n",
    "\n",
    "\n",
    "# if ((condicion1) and / or (condion2)):\n",
    "#   #code \n",
    "\n",
    "# if not(condicion1):\n",
    "#   #code\n",
    "\n",
    "#SWITCH CASE\n",
    "\n",
    "match variableCondicion:\n",
    "  case 1:\n",
    "    #code\n",
    "  case 2:\n",
    "    #code\n"
   ]
  },
  {
   "cell_type": "code",
   "execution_count": null,
   "metadata": {
    "colab": {
     "base_uri": "https://localhost:8080/"
    },
    "id": "dYdKqgd2RNuy",
    "outputId": "4e7231f4-a357-4986-f499-d6e15ef45512"
   },
   "outputs": [
    {
     "name": "stdout",
     "output_type": "stream",
     "text": [
      "Ingrese la temperatura del motor: 25\n",
      "Ingrese la temperatura del motor2: 5\n",
      "Temperatura con parametros correctos\n",
      "No es correcto\n"
     ]
    }
   ],
   "source": [
    "#CONDICIONAL IF \n",
    "\n",
    "temperaturaMotor = int(input(\"Ingrese la temperatura del motor: \"))\n",
    "\n",
    "if temperaturaMotor > 30 and temperaturaMotor<90:\n",
    "  print(\"Temperatura con parametros correctos\")\n",
    "\n",
    "temperaturaMotor2 = int(input(\"Ingrese la temperatura del motor2: \"))\n",
    "\n",
    "if temperaturaMotor2 > 30 or temperaturaMotor2<90:\n",
    "  print(\"Temperatura con parametros correctos\")\n",
    "\n",
    "isCorrect = False\n",
    "if not(isCorrect):\n",
    "  print(\"No es correcto\")"
   ]
  },
  {
   "cell_type": "code",
   "execution_count": null,
   "metadata": {
    "colab": {
     "base_uri": "https://localhost:8080/"
    },
    "id": "jlypfYW2UkaW",
    "outputId": "d020115c-ce70-4ff3-9c66-cb1fa65b53ed"
   },
   "outputs": [
    {
     "name": "stdout",
     "output_type": "stream",
     "text": [
      "manzana\n",
      "pera\n",
      "durazno\n",
      "uva\n",
      "\n",
      "M\n",
      "i\n",
      "c\n",
      "r\n",
      "o\n",
      "c\n",
      "o\n",
      "n\n",
      "t\n",
      "r\n",
      "o\n",
      "l\n",
      "a\n",
      "d\n",
      "o\n",
      "r\n",
      " \n",
      "o\n",
      " \n",
      "M\n",
      "u\n",
      "r\n",
      "c\n",
      "i\n",
      "e\n",
      "l\n",
      "a\n",
      "g\n",
      "o\n",
      "\n",
      "0\n",
      "1\n",
      "2\n",
      "3\n",
      "4\n",
      "\n",
      "1\n",
      "2\n",
      "3\n",
      "4\n",
      "\n",
      "1\n",
      "3\n",
      "5\n",
      "7\n",
      "9\n",
      "\n",
      "5\n",
      "\n",
      "Ford\n",
      "Nissan\n",
      "Mazda\n",
      "VW\n",
      "Chevrolet\n",
      "El elemento posicion  0  es Ford\n",
      "El elemento posicion  1  es Nissan\n",
      "El elemento posicion  2  es Mazda\n",
      "El elemento posicion  3  es VW\n",
      "El elemento posicion  4  es Chevrolet\n"
     ]
    }
   ],
   "source": [
    "#FOR\n",
    "\n",
    "canastaFrutas = [\"manzana\", \"pera\", \"durazno\", \"uva\"]\n",
    "\n",
    "for fruta in canastaFrutas:\n",
    "  print(fruta)\n",
    "\n",
    "print(\"\")\n",
    "frase = \"Microcontrolador o Murcielago\"\n",
    "\n",
    "for letra in frase:\n",
    "  print(letra)\n",
    "\n",
    "print(\"\")\n",
    "\n",
    "for i in range(5):\n",
    "  print(i)\n",
    "\n",
    "print(\"\")\n",
    "\n",
    "for i in range(1, 5):\n",
    "  print(i)\n",
    "\n",
    "print(\"\")\n",
    "\n",
    "for i in range(1, 11, 2):\n",
    "  print(i)\n",
    "\n",
    "print(\"\")\n",
    "\n",
    "marcasAutos = [\"Ford\", \"Nissan\", \"Mazda\", \"VW\", \"Chevrolet\"]\n",
    "longLista = len(marcasAutos)\n",
    "print(longLista)\n",
    "\n",
    "print(\"\")\n",
    "\n",
    "for marca in marcasAutos:\n",
    "  print(marca)\n",
    "\n",
    "for i in range(longLista):\n",
    "  print(\"El elemento posicion \", i, \" es\", marcasAutos[i])"
   ]
  },
  {
   "cell_type": "code",
   "execution_count": null,
   "metadata": {
    "colab": {
     "base_uri": "https://localhost:8080/"
    },
    "id": "qJNxJnW4d46Z",
    "outputId": "8b096e94-d549-4fb6-f2f4-67f2d46eb29e"
   },
   "outputs": [
    {
     "name": "stdout",
     "output_type": "stream",
     "text": [
      "Ingrese 0 o 1 para determinar la condicion: 0\n",
      "Accion a realizar\n",
      "Ingrese 0 o 1 para determinar la condicion: 0\n"
     ]
    }
   ],
   "source": [
    "#WHILE\n",
    "\n",
    "condicion = int(input(\"Ingrese 0 o 1 para determinar la condicion: \"))\n",
    "\n",
    "while (condicion):\n",
    "  print(\"Condicion se cumple\")\n",
    "  condicion = int(input(\"Ingrese 0 o 1 para determinar la condicion: \"))\n",
    "\n",
    "#DO WHILE\n",
    "\n",
    "while True:\n",
    "  print(\"Accion a realizar\")\n",
    "  condicion = int(input(\"Ingrese 0 o 1 para determinar la condicion: \"))        \n",
    "  if not(condicion):\n",
    "    break\n",
    "    #terminar el ciclo\n"
   ]
  },
  {
   "cell_type": "code",
   "execution_count": null,
   "metadata": {
    "id": "hjrS4aoXjKT_"
   },
   "outputs": [],
   "source": []
  }
 ],
 "metadata": {
  "colab": {
   "provenance": []
  },
  "kernelspec": {
   "display_name": "Python 3",
   "name": "python3"
  },
  "language_info": {
   "name": "python"
  }
 },
 "nbformat": 4,
 "nbformat_minor": 0
}
