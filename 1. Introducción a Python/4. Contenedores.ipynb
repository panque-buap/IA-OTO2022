{
 "cells": [
  {
   "cell_type": "code",
   "execution_count": null,
   "metadata": {
    "colab": {
     "base_uri": "https://localhost:8080/"
    },
    "id": "0hx3GITHnJeu",
    "outputId": "c11e05cc-08ca-48d9-afdf-e3f7a2e59588"
   },
   "outputs": [
    {
     "name": "stdout",
     "output_type": "stream",
     "text": [
      "[5, 2, 3, 4, 1]\n",
      "<class 'list'>\n",
      "20\n",
      "[20, 12, 13, 12, 13, 12, 13, 12, 13]\n",
      "<class 'list'>\n",
      "[1, 2, 3, 'a', 'b', 'Hola mundo', False, [1, 'a']]\n",
      "Hola mundo\n"
     ]
    }
   ],
   "source": [
    "#Un contenedor es una estructura de datos que se encuentra de forma \n",
    "#predeterminada en el lenguaje de programación (Python )\n",
    "\n",
    "#Estructura de datos: Se define de forma simple como la manera en la \n",
    "#que vamos a organizar información.\n",
    "\n",
    "\n",
    "#CONTENEDORES\n",
    "#listas\n",
    "#tuplas\n",
    "#diccionarios\n",
    "#conjuntos \n",
    "\n"
   ]
  },
  {
   "cell_type": "code",
   "execution_count": null,
   "metadata": {
    "colab": {
     "base_uri": "https://localhost:8080/"
    },
    "id": "w-31BsaEDRHE",
    "outputId": "e929fa3a-dff4-4716-95eb-ab978eae7458"
   },
   "outputs": [
    {
     "name": "stdout",
     "output_type": "stream",
     "text": [
      "[5, 2, 3, 4, 1]\n",
      "<class 'list'>\n",
      "20\n",
      "[20, 12, 13, 12, 13, 12, 13, 12, 13]\n",
      "<class 'list'>\n",
      "[1, 2, 3, 'a', 'b', 'Hola mundo', False, [1, 'a']]\n",
      "Hola mundo\n"
     ]
    }
   ],
   "source": [
    "#Contenedor 1: Lista\n",
    "#Características:  \n",
    "    # Es mutable (que puede cambiar)\n",
    "    # Tiene un orden (accedemos a los valores mediante el uso de indices)\n",
    "    # Permite tener elementos duplicados\n",
    "\n",
    "lista = list([5,2,3,4,1])\n",
    "print(lista)\n",
    "print(type(lista))\n",
    "\n",
    "lista2 = [6,7,8,9,10]\n",
    "lista2 = [11,12,13,12,13,12,13,12,13]\n",
    "\n",
    "lista2[0] = 20\n",
    "\n",
    "print(lista2[0])\n",
    "print(lista2)\n",
    "print(type(lista2))\n",
    "\n",
    "listaDatos = [1,2,3, 'a', 'b', \"Hola mundo\", False, [1,'a']]\n",
    "print(listaDatos)\n",
    "print(listaDatos[5])"
   ]
  },
  {
   "cell_type": "code",
   "execution_count": null,
   "metadata": {
    "colab": {
     "base_uri": "https://localhost:8080/"
    },
    "id": "RqbI6hwpDLC1",
    "outputId": "0d8e58f9-2128-4887-fefd-701267278439"
   },
   "outputs": [
    {
     "name": "stdout",
     "output_type": "stream",
     "text": [
      "(1, 2, 3)\n",
      "(4, 5, 6, 4, 5, 6, 'a')\n",
      "6\n",
      "(1, 2, 3, 4, 5, 6)\n"
     ]
    }
   ],
   "source": [
    "#Contenedor 2: Tupla\n",
    "#Características:  \n",
    "    # Es NO mutable (NO puede cambiar)\n",
    "    # Tiene un orden (accedemos a los valores mediante el uso de indices)\n",
    "    # Permite tener elementos duplicados\n",
    "\n",
    "tupla = tuple([1,2,3])\n",
    "print(tupla)\n",
    "\n",
    "tupla2 = (4,5,6,4,5,6, 'a')\n",
    "print(tupla2)\n",
    "\n",
    "print(tupla2[2])\n",
    "\n",
    "tupla2 = (1,2,3,4,5,6)\n",
    "# tupla2[0]=10\n",
    "print(tupla2)\n"
   ]
  },
  {
   "cell_type": "code",
   "execution_count": null,
   "metadata": {
    "colab": {
     "base_uri": "https://localhost:8080/"
    },
    "id": "egR0vaN0nrNj",
    "outputId": "ecbb9e51-4254-4eb4-db3e-01570f7fd824"
   },
   "outputs": [
    {
     "name": "stdout",
     "output_type": "stream",
     "text": [
      "{1, 2, 3, 4}\n",
      "{8, 5, 6, 7}\n",
      "{5, 6, 7, 8, 9, 12}\n"
     ]
    }
   ],
   "source": [
    "#Contenedor 3: Conjunto\n",
    "#Características:  \n",
    "    # Es mutable (puede cambiar)\n",
    "    # NO tiene un orden (NO accedemos a los valores mediante el uso de indices)\n",
    "    # NO Permite tener elementos duplicados\n",
    "\n",
    "conjunto = set([1,2,3,4])\n",
    "print(conjunto)\n",
    "\n",
    "conjunto2 = {5,6,7,8,5,6,7,8,5,6,7,8}\n",
    "print(conjunto2)\n",
    "\n",
    "conjunto3 = {9,12}\n",
    "conjunto2.update(conjunto3)\n",
    "print(conjunto2)\n"
   ]
  },
  {
   "cell_type": "code",
   "execution_count": null,
   "metadata": {
    "colab": {
     "base_uri": "https://localhost:8080/"
    },
    "id": "3tKwsXyIF1gq",
    "outputId": "cdfb839e-a5c3-41f4-efb9-b9d8838f4d36"
   },
   "outputs": [
    {
     "name": "stdout",
     "output_type": "stream",
     "text": [
      "{'cuadro': 'figura geometrica de 4 lados', 'triangulo': 'figura geometrica de 3 lados', 'pentagono': 'figura geometrica de 5 lados'}\n",
      "{'triangulo2': 'figura geometrica de 3 lados', 'cuadro2': 'figura2 geometrica de 4 lados', 'pentagono2': 'figura geometrica de 5 lados'}\n",
      "figura geometrica de 3 lados\n",
      "{'triangulo2': 'figura geometrica de 3 lados', 'cuadro2': 'poligono de 4 lados', 'pentagono2': 'figura geometrica de 5 lados'}\n"
     ]
    }
   ],
   "source": [
    "#Contenedor 4: Diccionario\n",
    "\n",
    "#Libro con la definición de palabra en orden alfabético\n",
    "#cada palabra tiene su significado (tiene un par  llave:valor)\n",
    "\n",
    "diccionario = dict([(\"cuadro\",\"figura geometrica de 4 lados\"),\n",
    "                    (\"triangulo\",\"figura geometrica de 3 lados\"),\n",
    "                    (\"pentagono\",\"figura geometrica de 5 lados\")])\n",
    "print(diccionario)\n",
    "\n",
    "diccionario2 = {\"triangulo2\":\"figura geometrica de 3 lados\",\n",
    "                \"cuadro2\":\"figura geometrica de 4 lados\",\n",
    "                \"pentagono2\":\"figura geometrica de 5 lados\",\n",
    "                \"cuadro2\":\"figura2 geometrica de 4 lados\",\n",
    "                }\n",
    "print(diccionario2)\n",
    "\n",
    "#Características:  \n",
    "    # Es mutable (puede cambiar)\n",
    "    # SI tiene un orden (NO accedemos a los valores mediante el uso de indices,\n",
    "    #                    accedemos a los valores mediante una llave )\n",
    "    # NO Permite tener elementos duplicados\n",
    "print(diccionario2[\"triangulo2\"])\n",
    "\n",
    "diccionario2[\"cuadro2\"] = \"poligono de 4 lados\"\n",
    "print(diccionario2)\n"
   ]
  },
  {
   "cell_type": "code",
   "execution_count": null,
   "metadata": {
    "id": "80WhB_GWJ7Sz"
   },
   "outputs": [],
   "source": []
  }
 ],
 "metadata": {
  "colab": {
   "provenance": []
  },
  "kernelspec": {
   "display_name": "Python 3",
   "name": "python3"
  },
  "language_info": {
   "name": "python"
  }
 },
 "nbformat": 4,
 "nbformat_minor": 0
}
