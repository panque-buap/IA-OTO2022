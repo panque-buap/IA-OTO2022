{
 "cells": [
  {
   "cell_type": "code",
   "execution_count": 1,
   "id": "174e2967",
   "metadata": {},
   "outputs": [],
   "source": [
    "from pymongo import MongoClient\n",
    "from decouple import AutoConfig\n",
    "from bson import ObjectId"
   ]
  },
  {
   "cell_type": "code",
   "execution_count": 2,
   "id": "614da772",
   "metadata": {},
   "outputs": [],
   "source": [
    "setup = AutoConfig(\"\")\n",
    "# print(setup(\"VARIABLE\"))"
   ]
  },
  {
   "cell_type": "code",
   "execution_count": 6,
   "id": "54d57e9d",
   "metadata": {},
   "outputs": [],
   "source": [
    "class MongoDB:\n",
    "    \n",
    "    def __init__(self):\n",
    "        print(\"Ingresando a base de datos....\")\n",
    "        cliente = MongoClient(setup(\"VARIABLE\"))\n",
    "        DB = cliente[\"Biblioteca\"]\n",
    "        self.coleccion = DB[\"Autores\"]\n",
    "        print(\"Conectado exitosamente a Mongo\")\n",
    "    def escribir(self,payload):\n",
    "        self.coleccion.insert_one(payload).inserted_id\n",
    "        print(\"Documento creado exitosamente\")\n",
    "        \n",
    "    def buscar(self):\n",
    "        documentos = self.coleccion.find({})\n",
    "        \n",
    "        for documento in documentos:\n",
    "            print(documento)\n",
    "    def borrar(self, identificador):\n",
    "        print(type(ObjectId(identificador)))\n",
    "        self.coleccion.delete_one({\"_id\" : ObjectId(identificador)})\n",
    "        print(\"Documento borrado exitosamente\")\n",
    "    \n",
    "    def buscarId(self, identificador):\n",
    "        documento = self.coleccion.find_one({\"_id\" : ObjectId(identificador)})\n",
    "        \n",
    "        if documento == None:\n",
    "            print(\"El Id no existe\")\n",
    "        else:\n",
    "            print(documento)\n",
    "        "
   ]
  },
  {
   "cell_type": "code",
   "execution_count": null,
   "id": "44bbeb4a",
   "metadata": {},
   "outputs": [],
   "source": [
    "mensaje =  {\n",
    "    \"maquina\": \"CUATRO\"\n",
    "}\n",
    "\n",
    "objeto1 = MongoDB()\n",
    "objeto1.escribir(mensaje)\n",
    "objeto1.buscar()"
   ]
  },
  {
   "cell_type": "code",
   "execution_count": null,
   "id": "759b6ab5",
   "metadata": {},
   "outputs": [],
   "source": [
    "objeto1 = MongoDB()\n",
    "objeto1.borrar(\"631fd656481fee613994ed7f\")"
   ]
  },
  {
   "cell_type": "code",
   "execution_count": 8,
   "id": "263b6145",
   "metadata": {},
   "outputs": [
    {
     "name": "stdout",
     "output_type": "stream",
     "text": [
      "Ingresando a base de datos....\n",
      "Conectado exitosamente a Mongo\n",
      "El Id no existe\n"
     ]
    }
   ],
   "source": [
    "objeto1 = MongoDB()\n",
    "objeto1.buscarId(\"631fd656481fee613994ed7f\")"
   ]
  },
  {
   "cell_type": "code",
   "execution_count": null,
   "id": "98ab9ce8",
   "metadata": {},
   "outputs": [],
   "source": []
  }
 ],
 "metadata": {
  "kernelspec": {
   "display_name": "Python 3",
   "language": "python",
   "name": "python3"
  },
  "language_info": {
   "codemirror_mode": {
    "name": "ipython",
    "version": 3
   },
   "file_extension": ".py",
   "mimetype": "text/x-python",
   "name": "python",
   "nbconvert_exporter": "python",
   "pygments_lexer": "ipython3",
   "version": "3.8.5"
  }
 },
 "nbformat": 4,
 "nbformat_minor": 5
}
